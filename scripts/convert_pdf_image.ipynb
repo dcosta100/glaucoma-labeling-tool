{
 "cells": [
  {
   "cell_type": "code",
   "execution_count": 4,
   "id": "9a5d76f0",
   "metadata": {},
   "outputs": [],
   "source": [
    "# Script para converter todos os PDFs uma vez\n",
    "import fitz\n",
    "from PIL import Image\n",
    "import os\n",
    "\n",
    "def convert_pdfs_to_images(pdf_folder, output_folder):\n",
    "    for pdf_file in os.listdir(pdf_folder):\n",
    "        if pdf_file.endswith('.pdf'):\n",
    "            doc = fitz.open(os.path.join(pdf_folder, pdf_file))\n",
    "            page = doc.load_page(0)\n",
    "            pix = page.get_pixmap(matrix=fitz.Matrix(2.0, 2.0))\n",
    "            img_name = pdf_file.replace('.pdf', '.png')\n",
    "            pix.save(os.path.join(output_folder, img_name))"
   ]
  },
  {
   "cell_type": "code",
   "execution_count": 7,
   "id": "15c58c3f",
   "metadata": {},
   "outputs": [],
   "source": [
    "pdf_folder = r\"C:\\Users\\dxr1276\\Box\\PROJECTS\\VF_GRADINGS\\hfa_printouts\"\n",
    "output_folder = r\"C:\\Users\\dxr1276\\OneDrive\\Projects\\glaucoma-labeling-tool\\data\\images\""
   ]
  },
  {
   "cell_type": "code",
   "execution_count": 8,
   "id": "f2cf7a7f",
   "metadata": {},
   "outputs": [],
   "source": [
    "convert_pdfs_to_images(pdf_folder, output_folder)"
   ]
  }
 ],
 "metadata": {
  "kernelspec": {
   "display_name": ".venv",
   "language": "python",
   "name": "python3"
  },
  "language_info": {
   "codemirror_mode": {
    "name": "ipython",
    "version": 3
   },
   "file_extension": ".py",
   "mimetype": "text/x-python",
   "name": "python",
   "nbconvert_exporter": "python",
   "pygments_lexer": "ipython3",
   "version": "3.11.4"
  }
 },
 "nbformat": 4,
 "nbformat_minor": 5
}
