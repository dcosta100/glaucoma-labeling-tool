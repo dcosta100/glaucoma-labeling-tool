{
 "cells": [
  {
   "cell_type": "code",
   "execution_count": null,
   "id": "257029b3",
   "metadata": {},
   "outputs": [],
   "source": [
    "VISUAL_FIELD_LABELS = {\n",
    "    'normality': ['Normal', 'Abnormal'],\n",
    "    'reliability': ['Reliable', 'Unreliable'],\n",
    "    'gdefect1': ['Central Loss', 'Paracentral Loss', 'Nasal Step', 'Temporal Wedge', \n",
    "                    'Particual Arcuate Defect', 'Complete Arcuate Defect', 'Atitudinal Defect', \n",
    "                    'Generalized Constrcition', 'Generalized Reduced Sensitivity', 'Total Loss of Field', 'Unclassifiable'],\n",
    "    'gdefect2': ['Central Loss', 'Paracentral Loss', 'Nasal Step', 'Temporal Wedge', \n",
    "                    'Particual Arcuate Defect', 'Complete Arcuate Defect', 'Atitudinal Defect', \n",
    "                    'Generalized Constrcition', 'Generalized Reduced Sensitivity', 'Total Loss of Field', 'Unclassifiable'],\n",
    "    'gdefect3': ['Central Loss', 'Paracentral Loss', 'Nasal Step', 'Temporal Wedge', \n",
    "                    'Particual Arcuate Defect', 'Complete Arcuate Defect', 'Atitudinal Defect', \n",
    "                    'Generalized Constrcition', 'Generalized Reduced Sensitivity', 'Total Loss of Field', 'Unclassifiable'],\n",
    "    'gposition1': ['Superior', 'Inferior'],\n",
    "    'gposition2': ['Superior', 'Inferior'],\n",
    "    'gposition3': ['Superior', 'Inferior'],\n",
    "    'ngdefect1' : ['Hemianopia', 'Quadranopia', 'Non-glaucomatous Central Loss', 'Enlarged Blind Spot'],\n",
    "    'ngdefect2' : ['Hemianopia', 'Quadranopia', 'Non-glaucomatous Central Loss', 'Enlarged Blind Spot'],\n",
    "    'ngdefect3' : ['Hemianopia', 'Quadranopia', 'Non-glaucomatous Central Loss', 'Enlarged Blind Spot'],\n",
    "    'ngposition1' : ['Nasal', 'Temporal', 'Superior Nasal', 'Inferior Nasal', 'Superior Temporal', 'Inferior Temporal'],\n",
    "    'ngposition2' : ['Nasal', 'Temporal', 'Superior Nasal', 'Inferior Nasal', 'Superior Temporal', 'Inferior Temporal'],\n",
    "    'ngposition3' : ['Nasal', 'Temporal', 'Superior Nasal', 'Inferior Nasal', 'Superior Temporal', 'Inferior Temporal'],\n",
    "    'artifact1': ['Upper Eyelid Artifact', 'Lens Rim Artifact/ Peripheral Rim', 'Cloverleaf Defect', 'Blind Spot Absence', 'Trigger Happy'],\n",
    "    'artifact2': ['Upper Eyelid Artifact', 'Lens Rim Artifact/ Peripheral Rim', 'Cloverleaf Defect', 'Blind Spot Absence', 'Trigger Happy']\n",
    "}"
   ]
  }
 ],
 "metadata": {
  "language_info": {
   "name": "python"
  }
 },
 "nbformat": 4,
 "nbformat_minor": 5
}
