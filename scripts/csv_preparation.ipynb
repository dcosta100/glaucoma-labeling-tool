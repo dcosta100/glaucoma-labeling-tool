{
 "cells": [
  {
   "cell_type": "code",
   "execution_count": 19,
   "id": "6aba5f16",
   "metadata": {},
   "outputs": [],
   "source": [
    "import pandas as pd\n",
    "from pathlib import Path\n",
    "import pandas as pd\n",
    "\n",
    "base_path = Path.cwd()"
   ]
  },
  {
   "cell_type": "markdown",
   "id": "8ed57194",
   "metadata": {},
   "source": [
    "Reading the original OPV file with all PDFs and raw data:"
   ]
  },
  {
   "cell_type": "code",
   "execution_count": 20,
   "id": "c3290ab0",
   "metadata": {},
   "outputs": [],
   "source": [
    "opv_path = base_path.parent / \"data\" / \"opv_export_masked_20220901.csv\"\n",
    "\n",
    "df = pd.read_csv(opv_path)"
   ]
  },
  {
   "cell_type": "code",
   "execution_count": 21,
   "id": "df0970c9",
   "metadata": {},
   "outputs": [
    {
     "data": {
      "application/vnd.microsoft.datawrangler.viewer.v0+json": {
       "columns": [
        {
         "name": "index",
         "rawType": "int64",
         "type": "integer"
        },
        {
         "name": "pdf_filename",
         "rawType": "object",
         "type": "string"
        },
        {
         "name": "opv_filename",
         "rawType": "object",
         "type": "string"
        },
        {
         "name": "maskedid",
         "rawType": "object",
         "type": "string"
        },
        {
         "name": "aedob_shift",
         "rawType": "object",
         "type": "string"
        },
        {
         "name": "aeexamdate_shift",
         "rawType": "object",
         "type": "string"
        },
        {
         "name": "eye",
         "rawType": "object",
         "type": "string"
        },
        {
         "name": "trial_rx_sphere",
         "rawType": "float64",
         "type": "float"
        },
        {
         "name": "trial_rx_cylinder",
         "rawType": "float64",
         "type": "float"
        },
        {
         "name": "trial_rx_axis",
         "rawType": "int64",
         "type": "integer"
        },
        {
         "name": "pupil_diameter",
         "rawType": "float64",
         "type": "float"
        },
        {
         "name": "va",
         "rawType": "float64",
         "type": "float"
        },
        {
         "name": "testpattern",
         "rawType": "object",
         "type": "string"
        },
        {
         "name": "teststrategy",
         "rawType": "float64",
         "type": "float"
        },
        {
         "name": "test_mode",
         "rawType": "float64",
         "type": "float"
        },
        {
         "name": "stimulus_size",
         "rawType": "object",
         "type": "string"
        },
        {
         "name": "stimulus_color",
         "rawType": "object",
         "type": "string"
        },
        {
         "name": "stimulus_ms",
         "rawType": "int64",
         "type": "integer"
        },
        {
         "name": "stimulus_absmax",
         "rawType": "float64",
         "type": "float"
        },
        {
         "name": "background_asb",
         "rawType": "float64",
         "type": "float"
        },
        {
         "name": "background_color",
         "rawType": "object",
         "type": "string"
        },
        {
         "name": "fixation_monitor",
         "rawType": "object",
         "type": "string"
        },
        {
         "name": "fixation_target",
         "rawType": "object",
         "type": "string"
        },
        {
         "name": "instrument_software_version",
         "rawType": "object",
         "type": "string"
        },
        {
         "name": "instrument_serial_number",
         "rawType": "object",
         "type": "string"
        },
        {
         "name": "test_duration",
         "rawType": "object",
         "type": "string"
        },
        {
         "name": "fixation_loss",
         "rawType": "int64",
         "type": "integer"
        },
        {
         "name": "fixation_number",
         "rawType": "int64",
         "type": "integer"
        },
        {
         "name": "falsenegativepercent",
         "rawType": "float64",
         "type": "float"
        },
        {
         "name": "falsepositivepercent",
         "rawType": "float64",
         "type": "float"
        },
        {
         "name": "mt",
         "rawType": "float64",
         "type": "float"
        },
        {
         "name": "md_302",
         "rawType": "float64",
         "type": "float"
        },
        {
         "name": "md_242",
         "rawType": "float64",
         "type": "float"
        },
        {
         "name": "mdprob",
         "rawType": "object",
         "type": "string"
        },
        {
         "name": "psd",
         "rawType": "float64",
         "type": "float"
        },
        {
         "name": "psdprob",
         "rawType": "object",
         "type": "string"
        },
        {
         "name": "vfi",
         "rawType": "float64",
         "type": "float"
        },
        {
         "name": "ght",
         "rawType": "object",
         "type": "string"
        },
        {
         "name": "fovealthreshold",
         "rawType": "float64",
         "type": "float"
        },
        {
         "name": "fovealthresholdprob",
         "rawType": "object",
         "type": "string"
        },
        {
         "name": "n9_s27_thr",
         "rawType": "float64",
         "type": "float"
        },
        {
         "name": "n3_s27_thr",
         "rawType": "float64",
         "type": "float"
        },
        {
         "name": "t3_s27_thr",
         "rawType": "float64",
         "type": "float"
        },
        {
         "name": "t9_s27_thr",
         "rawType": "float64",
         "type": "float"
        },
        {
         "name": "n15_s21_thr",
         "rawType": "float64",
         "type": "float"
        },
        {
         "name": "n9_s21_thr",
         "rawType": "int64",
         "type": "integer"
        },
        {
         "name": "n3_s21_thr",
         "rawType": "int64",
         "type": "integer"
        },
        {
         "name": "t3_s21_thr",
         "rawType": "int64",
         "type": "integer"
        },
        {
         "name": "t9_s21_thr",
         "rawType": "int64",
         "type": "integer"
        },
        {
         "name": "t15_s21_thr",
         "rawType": "float64",
         "type": "float"
        },
        {
         "name": "n21_s15_thr",
         "rawType": "float64",
         "type": "float"
        },
        {
         "name": "n15_s15_thr",
         "rawType": "int64",
         "type": "integer"
        },
        {
         "name": "n9_s15_thr",
         "rawType": "int64",
         "type": "integer"
        },
        {
         "name": "n3_s15_thr",
         "rawType": "int64",
         "type": "integer"
        },
        {
         "name": "t3_s15_thr",
         "rawType": "int64",
         "type": "integer"
        },
        {
         "name": "t9_s15_thr",
         "rawType": "int64",
         "type": "integer"
        },
        {
         "name": "t15_s15_thr",
         "rawType": "int64",
         "type": "integer"
        },
        {
         "name": "t21_s15_thr",
         "rawType": "float64",
         "type": "float"
        },
        {
         "name": "n27_s9_thr",
         "rawType": "float64",
         "type": "float"
        },
        {
         "name": "n21_s9_thr",
         "rawType": "int64",
         "type": "integer"
        },
        {
         "name": "n15_s9_thr",
         "rawType": "int64",
         "type": "integer"
        },
        {
         "name": "n9_s9_thr",
         "rawType": "int64",
         "type": "integer"
        },
        {
         "name": "n3_s9_thr",
         "rawType": "int64",
         "type": "integer"
        },
        {
         "name": "t3_s9_thr",
         "rawType": "int64",
         "type": "integer"
        },
        {
         "name": "t9_s9_thr",
         "rawType": "int64",
         "type": "integer"
        },
        {
         "name": "t15_s9_thr",
         "rawType": "int64",
         "type": "integer"
        },
        {
         "name": "t21_s9_thr",
         "rawType": "int64",
         "type": "integer"
        },
        {
         "name": "t27_s9_thr",
         "rawType": "float64",
         "type": "float"
        },
        {
         "name": "n27_s3_thr",
         "rawType": "int64",
         "type": "integer"
        },
        {
         "name": "n21_s3_thr",
         "rawType": "int64",
         "type": "integer"
        },
        {
         "name": "n15_s3_thr",
         "rawType": "int64",
         "type": "integer"
        },
        {
         "name": "n9_s3_thr",
         "rawType": "int64",
         "type": "integer"
        },
        {
         "name": "n3_s3_thr",
         "rawType": "int64",
         "type": "integer"
        },
        {
         "name": "t3_s3_thr",
         "rawType": "int64",
         "type": "integer"
        },
        {
         "name": "t9_s3_thr",
         "rawType": "int64",
         "type": "integer"
        },
        {
         "name": "t15_s3_thr",
         "rawType": "int64",
         "type": "integer"
        },
        {
         "name": "t21_s3_thr",
         "rawType": "int64",
         "type": "integer"
        },
        {
         "name": "t27_s3_thr",
         "rawType": "float64",
         "type": "float"
        },
        {
         "name": "n27_i3_thr",
         "rawType": "int64",
         "type": "integer"
        },
        {
         "name": "n21_i3_thr",
         "rawType": "int64",
         "type": "integer"
        },
        {
         "name": "n15_i3_thr",
         "rawType": "int64",
         "type": "integer"
        },
        {
         "name": "n9_i3_thr",
         "rawType": "int64",
         "type": "integer"
        },
        {
         "name": "n3_i3_thr",
         "rawType": "int64",
         "type": "integer"
        },
        {
         "name": "t3_i3_thr",
         "rawType": "int64",
         "type": "integer"
        },
        {
         "name": "t9_i3_thr",
         "rawType": "int64",
         "type": "integer"
        },
        {
         "name": "t15_i3_thr",
         "rawType": "int64",
         "type": "integer"
        },
        {
         "name": "t21_i3_thr",
         "rawType": "int64",
         "type": "integer"
        },
        {
         "name": "t27_i3_thr",
         "rawType": "float64",
         "type": "float"
        },
        {
         "name": "n27_i9_thr",
         "rawType": "float64",
         "type": "float"
        },
        {
         "name": "n21_i9_thr",
         "rawType": "int64",
         "type": "integer"
        },
        {
         "name": "n15_i9_thr",
         "rawType": "int64",
         "type": "integer"
        },
        {
         "name": "n9_i9_thr",
         "rawType": "int64",
         "type": "integer"
        },
        {
         "name": "n3_i9_thr",
         "rawType": "int64",
         "type": "integer"
        },
        {
         "name": "t3_i9_thr",
         "rawType": "int64",
         "type": "integer"
        },
        {
         "name": "t9_i9_thr",
         "rawType": "int64",
         "type": "integer"
        },
        {
         "name": "t15_i9_thr",
         "rawType": "int64",
         "type": "integer"
        },
        {
         "name": "t21_i9_thr",
         "rawType": "int64",
         "type": "integer"
        },
        {
         "name": "t27_i9_thr",
         "rawType": "float64",
         "type": "float"
        },
        {
         "name": "n21_i15_thr",
         "rawType": "float64",
         "type": "float"
        },
        {
         "name": "n15_i15_thr",
         "rawType": "int64",
         "type": "integer"
        },
        {
         "name": "n9_i15_thr",
         "rawType": "int64",
         "type": "integer"
        },
        {
         "name": "n3_i15_thr",
         "rawType": "int64",
         "type": "integer"
        },
        {
         "name": "t3_i15_thr",
         "rawType": "int64",
         "type": "integer"
        },
        {
         "name": "t9_i15_thr",
         "rawType": "int64",
         "type": "integer"
        },
        {
         "name": "t15_i15_thr",
         "rawType": "int64",
         "type": "integer"
        },
        {
         "name": "t21_i15_thr",
         "rawType": "float64",
         "type": "float"
        },
        {
         "name": "n15_i21_thr",
         "rawType": "float64",
         "type": "float"
        },
        {
         "name": "n9_i21_thr",
         "rawType": "int64",
         "type": "integer"
        },
        {
         "name": "n3_i21_thr",
         "rawType": "int64",
         "type": "integer"
        },
        {
         "name": "t3_i21_thr",
         "rawType": "int64",
         "type": "integer"
        },
        {
         "name": "t9_i21_thr",
         "rawType": "int64",
         "type": "integer"
        },
        {
         "name": "t15_i21_thr",
         "rawType": "float64",
         "type": "float"
        },
        {
         "name": "n9_i27_thr",
         "rawType": "float64",
         "type": "float"
        },
        {
         "name": "n3_i27_thr",
         "rawType": "float64",
         "type": "float"
        },
        {
         "name": "t3_i27_thr",
         "rawType": "float64",
         "type": "float"
        },
        {
         "name": "t9_i27_thr",
         "rawType": "float64",
         "type": "float"
        },
        {
         "name": "n9_s27_td",
         "rawType": "float64",
         "type": "float"
        },
        {
         "name": "n3_s27_td",
         "rawType": "float64",
         "type": "float"
        },
        {
         "name": "t3_s27_td",
         "rawType": "float64",
         "type": "float"
        },
        {
         "name": "t9_s27_td",
         "rawType": "float64",
         "type": "float"
        },
        {
         "name": "n15_s21_td",
         "rawType": "float64",
         "type": "float"
        },
        {
         "name": "n9_s21_td",
         "rawType": "int64",
         "type": "integer"
        },
        {
         "name": "n3_s21_td",
         "rawType": "int64",
         "type": "integer"
        },
        {
         "name": "t3_s21_td",
         "rawType": "int64",
         "type": "integer"
        },
        {
         "name": "t9_s21_td",
         "rawType": "int64",
         "type": "integer"
        },
        {
         "name": "t15_s21_td",
         "rawType": "float64",
         "type": "float"
        },
        {
         "name": "n21_s15_td",
         "rawType": "float64",
         "type": "float"
        },
        {
         "name": "n15_s15_td",
         "rawType": "int64",
         "type": "integer"
        },
        {
         "name": "n9_s15_td",
         "rawType": "int64",
         "type": "integer"
        },
        {
         "name": "n3_s15_td",
         "rawType": "int64",
         "type": "integer"
        },
        {
         "name": "t3_s15_td",
         "rawType": "int64",
         "type": "integer"
        },
        {
         "name": "t9_s15_td",
         "rawType": "int64",
         "type": "integer"
        },
        {
         "name": "t15_s15_td",
         "rawType": "int64",
         "type": "integer"
        },
        {
         "name": "t21_s15_td",
         "rawType": "float64",
         "type": "float"
        },
        {
         "name": "n27_s9_td",
         "rawType": "float64",
         "type": "float"
        },
        {
         "name": "n21_s9_td",
         "rawType": "int64",
         "type": "integer"
        },
        {
         "name": "n15_s9_td",
         "rawType": "int64",
         "type": "integer"
        },
        {
         "name": "n9_s9_td",
         "rawType": "int64",
         "type": "integer"
        },
        {
         "name": "n3_s9_td",
         "rawType": "int64",
         "type": "integer"
        },
        {
         "name": "t3_s9_td",
         "rawType": "int64",
         "type": "integer"
        },
        {
         "name": "t9_s9_td",
         "rawType": "int64",
         "type": "integer"
        },
        {
         "name": "t15_s9_td",
         "rawType": "int64",
         "type": "integer"
        },
        {
         "name": "t21_s9_td",
         "rawType": "int64",
         "type": "integer"
        },
        {
         "name": "t27_s9_td",
         "rawType": "float64",
         "type": "float"
        },
        {
         "name": "n27_s3_td",
         "rawType": "int64",
         "type": "integer"
        },
        {
         "name": "n21_s3_td",
         "rawType": "int64",
         "type": "integer"
        },
        {
         "name": "n15_s3_td",
         "rawType": "int64",
         "type": "integer"
        },
        {
         "name": "n9_s3_td",
         "rawType": "int64",
         "type": "integer"
        },
        {
         "name": "n3_s3_td",
         "rawType": "int64",
         "type": "integer"
        },
        {
         "name": "t3_s3_td",
         "rawType": "int64",
         "type": "integer"
        },
        {
         "name": "t9_s3_td",
         "rawType": "int64",
         "type": "integer"
        },
        {
         "name": "t15_s3_td",
         "rawType": "int64",
         "type": "integer"
        },
        {
         "name": "t21_s3_td",
         "rawType": "int64",
         "type": "integer"
        },
        {
         "name": "t27_s3_td",
         "rawType": "float64",
         "type": "float"
        },
        {
         "name": "n27_i3_td",
         "rawType": "int64",
         "type": "integer"
        },
        {
         "name": "n21_i3_td",
         "rawType": "int64",
         "type": "integer"
        },
        {
         "name": "n15_i3_td",
         "rawType": "int64",
         "type": "integer"
        },
        {
         "name": "n9_i3_td",
         "rawType": "int64",
         "type": "integer"
        },
        {
         "name": "n3_i3_td",
         "rawType": "int64",
         "type": "integer"
        },
        {
         "name": "t3_i3_td",
         "rawType": "int64",
         "type": "integer"
        },
        {
         "name": "t9_i3_td",
         "rawType": "int64",
         "type": "integer"
        },
        {
         "name": "t15_i3_td",
         "rawType": "int64",
         "type": "integer"
        },
        {
         "name": "t21_i3_td",
         "rawType": "int64",
         "type": "integer"
        },
        {
         "name": "t27_i3_td",
         "rawType": "float64",
         "type": "float"
        },
        {
         "name": "n27_i9_td",
         "rawType": "float64",
         "type": "float"
        },
        {
         "name": "n21_i9_td",
         "rawType": "int64",
         "type": "integer"
        },
        {
         "name": "n15_i9_td",
         "rawType": "int64",
         "type": "integer"
        },
        {
         "name": "n9_i9_td",
         "rawType": "int64",
         "type": "integer"
        },
        {
         "name": "n3_i9_td",
         "rawType": "int64",
         "type": "integer"
        },
        {
         "name": "t3_i9_td",
         "rawType": "int64",
         "type": "integer"
        },
        {
         "name": "t9_i9_td",
         "rawType": "int64",
         "type": "integer"
        },
        {
         "name": "t15_i9_td",
         "rawType": "int64",
         "type": "integer"
        },
        {
         "name": "t21_i9_td",
         "rawType": "int64",
         "type": "integer"
        },
        {
         "name": "t27_i9_td",
         "rawType": "float64",
         "type": "float"
        },
        {
         "name": "n21_i15_td",
         "rawType": "float64",
         "type": "float"
        },
        {
         "name": "n15_i15_td",
         "rawType": "int64",
         "type": "integer"
        },
        {
         "name": "n9_i15_td",
         "rawType": "int64",
         "type": "integer"
        },
        {
         "name": "n3_i15_td",
         "rawType": "int64",
         "type": "integer"
        },
        {
         "name": "t3_i15_td",
         "rawType": "int64",
         "type": "integer"
        },
        {
         "name": "t9_i15_td",
         "rawType": "int64",
         "type": "integer"
        },
        {
         "name": "t15_i15_td",
         "rawType": "int64",
         "type": "integer"
        },
        {
         "name": "t21_i15_td",
         "rawType": "float64",
         "type": "float"
        },
        {
         "name": "n15_i21_td",
         "rawType": "float64",
         "type": "float"
        },
        {
         "name": "n9_i21_td",
         "rawType": "int64",
         "type": "integer"
        },
        {
         "name": "n3_i21_td",
         "rawType": "int64",
         "type": "integer"
        },
        {
         "name": "t3_i21_td",
         "rawType": "int64",
         "type": "integer"
        },
        {
         "name": "t9_i21_td",
         "rawType": "int64",
         "type": "integer"
        },
        {
         "name": "t15_i21_td",
         "rawType": "float64",
         "type": "float"
        },
        {
         "name": "n9_i27_td",
         "rawType": "float64",
         "type": "float"
        },
        {
         "name": "n3_i27_td",
         "rawType": "float64",
         "type": "float"
        },
        {
         "name": "t3_i27_td",
         "rawType": "float64",
         "type": "float"
        },
        {
         "name": "t9_i27_td",
         "rawType": "float64",
         "type": "float"
        },
        {
         "name": "n9_s27_tdp",
         "rawType": "object",
         "type": "unknown"
        },
        {
         "name": "n3_s27_tdp",
         "rawType": "object",
         "type": "unknown"
        },
        {
         "name": "t3_s27_tdp",
         "rawType": "object",
         "type": "unknown"
        },
        {
         "name": "t9_s27_tdp",
         "rawType": "object",
         "type": "unknown"
        },
        {
         "name": "n15_s21_tdp",
         "rawType": "object",
         "type": "unknown"
        },
        {
         "name": "n9_s21_tdp",
         "rawType": "object",
         "type": "string"
        },
        {
         "name": "n3_s21_tdp",
         "rawType": "object",
         "type": "string"
        },
        {
         "name": "t3_s21_tdp",
         "rawType": "object",
         "type": "string"
        },
        {
         "name": "t9_s21_tdp",
         "rawType": "object",
         "type": "string"
        },
        {
         "name": "t15_s21_tdp",
         "rawType": "object",
         "type": "unknown"
        },
        {
         "name": "n21_s15_tdp",
         "rawType": "object",
         "type": "unknown"
        },
        {
         "name": "n15_s15_tdp",
         "rawType": "object",
         "type": "string"
        },
        {
         "name": "n9_s15_tdp",
         "rawType": "object",
         "type": "string"
        },
        {
         "name": "n3_s15_tdp",
         "rawType": "object",
         "type": "string"
        },
        {
         "name": "t3_s15_tdp",
         "rawType": "object",
         "type": "string"
        },
        {
         "name": "t9_s15_tdp",
         "rawType": "object",
         "type": "string"
        },
        {
         "name": "t15_s15_tdp",
         "rawType": "object",
         "type": "string"
        },
        {
         "name": "t21_s15_tdp",
         "rawType": "object",
         "type": "unknown"
        },
        {
         "name": "n27_s9_tdp",
         "rawType": "object",
         "type": "unknown"
        },
        {
         "name": "n21_s9_tdp",
         "rawType": "object",
         "type": "string"
        },
        {
         "name": "n15_s9_tdp",
         "rawType": "object",
         "type": "string"
        },
        {
         "name": "n9_s9_tdp",
         "rawType": "object",
         "type": "string"
        },
        {
         "name": "n3_s9_tdp",
         "rawType": "object",
         "type": "string"
        },
        {
         "name": "t3_s9_tdp",
         "rawType": "object",
         "type": "string"
        },
        {
         "name": "t9_s9_tdp",
         "rawType": "object",
         "type": "string"
        },
        {
         "name": "t15_s9_tdp",
         "rawType": "object",
         "type": "string"
        },
        {
         "name": "t21_s9_tdp",
         "rawType": "object",
         "type": "string"
        },
        {
         "name": "t27_s9_tdp",
         "rawType": "object",
         "type": "unknown"
        },
        {
         "name": "n27_s3_tdp",
         "rawType": "object",
         "type": "string"
        },
        {
         "name": "n21_s3_tdp",
         "rawType": "object",
         "type": "string"
        },
        {
         "name": "n15_s3_tdp",
         "rawType": "object",
         "type": "string"
        },
        {
         "name": "n9_s3_tdp",
         "rawType": "object",
         "type": "string"
        },
        {
         "name": "n3_s3_tdp",
         "rawType": "object",
         "type": "string"
        },
        {
         "name": "t3_s3_tdp",
         "rawType": "object",
         "type": "string"
        },
        {
         "name": "t9_s3_tdp",
         "rawType": "object",
         "type": "string"
        },
        {
         "name": "t15_s3_tdp",
         "rawType": "object",
         "type": "string"
        },
        {
         "name": "t21_s3_tdp",
         "rawType": "object",
         "type": "string"
        },
        {
         "name": "t27_s3_tdp",
         "rawType": "object",
         "type": "unknown"
        },
        {
         "name": "n27_i3_tdp",
         "rawType": "object",
         "type": "string"
        },
        {
         "name": "n21_i3_tdp",
         "rawType": "object",
         "type": "string"
        },
        {
         "name": "n15_i3_tdp",
         "rawType": "object",
         "type": "string"
        },
        {
         "name": "n9_i3_tdp",
         "rawType": "object",
         "type": "string"
        },
        {
         "name": "n3_i3_tdp",
         "rawType": "object",
         "type": "string"
        },
        {
         "name": "t3_i3_tdp",
         "rawType": "object",
         "type": "string"
        },
        {
         "name": "t9_i3_tdp",
         "rawType": "object",
         "type": "string"
        },
        {
         "name": "t15_i3_tdp",
         "rawType": "object",
         "type": "string"
        },
        {
         "name": "t21_i3_tdp",
         "rawType": "object",
         "type": "string"
        },
        {
         "name": "t27_i3_tdp",
         "rawType": "object",
         "type": "unknown"
        },
        {
         "name": "n27_i9_tdp",
         "rawType": "object",
         "type": "unknown"
        },
        {
         "name": "n21_i9_tdp",
         "rawType": "object",
         "type": "string"
        },
        {
         "name": "n15_i9_tdp",
         "rawType": "object",
         "type": "string"
        },
        {
         "name": "n9_i9_tdp",
         "rawType": "object",
         "type": "string"
        },
        {
         "name": "n3_i9_tdp",
         "rawType": "object",
         "type": "string"
        },
        {
         "name": "t3_i9_tdp",
         "rawType": "object",
         "type": "string"
        },
        {
         "name": "t9_i9_tdp",
         "rawType": "object",
         "type": "string"
        },
        {
         "name": "t15_i9_tdp",
         "rawType": "object",
         "type": "string"
        },
        {
         "name": "t21_i9_tdp",
         "rawType": "object",
         "type": "string"
        },
        {
         "name": "t27_i9_tdp",
         "rawType": "object",
         "type": "unknown"
        },
        {
         "name": "n21_i15_tdp",
         "rawType": "object",
         "type": "unknown"
        },
        {
         "name": "n15_i15_tdp",
         "rawType": "object",
         "type": "string"
        },
        {
         "name": "n9_i15_tdp",
         "rawType": "object",
         "type": "string"
        },
        {
         "name": "n3_i15_tdp",
         "rawType": "object",
         "type": "string"
        },
        {
         "name": "t3_i15_tdp",
         "rawType": "object",
         "type": "string"
        },
        {
         "name": "t9_i15_tdp",
         "rawType": "object",
         "type": "string"
        },
        {
         "name": "t15_i15_tdp",
         "rawType": "object",
         "type": "string"
        },
        {
         "name": "t21_i15_tdp",
         "rawType": "object",
         "type": "unknown"
        },
        {
         "name": "n15_i21_tdp",
         "rawType": "object",
         "type": "unknown"
        },
        {
         "name": "n9_i21_tdp",
         "rawType": "object",
         "type": "string"
        },
        {
         "name": "n3_i21_tdp",
         "rawType": "object",
         "type": "string"
        },
        {
         "name": "t3_i21_tdp",
         "rawType": "object",
         "type": "string"
        },
        {
         "name": "t9_i21_tdp",
         "rawType": "object",
         "type": "string"
        },
        {
         "name": "t15_i21_tdp",
         "rawType": "object",
         "type": "unknown"
        },
        {
         "name": "n9_i27_tdp",
         "rawType": "object",
         "type": "unknown"
        },
        {
         "name": "n3_i27_tdp",
         "rawType": "object",
         "type": "unknown"
        },
        {
         "name": "t3_i27_tdp",
         "rawType": "object",
         "type": "unknown"
        },
        {
         "name": "t9_i27_tdp",
         "rawType": "object",
         "type": "unknown"
        },
        {
         "name": "n9_s27_pd",
         "rawType": "float64",
         "type": "float"
        },
        {
         "name": "n3_s27_pd",
         "rawType": "float64",
         "type": "float"
        },
        {
         "name": "t3_s27_pd",
         "rawType": "float64",
         "type": "float"
        },
        {
         "name": "t9_s27_pd",
         "rawType": "float64",
         "type": "float"
        },
        {
         "name": "n15_s21_pd",
         "rawType": "float64",
         "type": "float"
        },
        {
         "name": "n9_s21_pd",
         "rawType": "float64",
         "type": "float"
        },
        {
         "name": "n3_s21_pd",
         "rawType": "float64",
         "type": "float"
        },
        {
         "name": "t3_s21_pd",
         "rawType": "float64",
         "type": "float"
        },
        {
         "name": "t9_s21_pd",
         "rawType": "float64",
         "type": "float"
        },
        {
         "name": "t15_s21_pd",
         "rawType": "float64",
         "type": "float"
        },
        {
         "name": "n21_s15_pd",
         "rawType": "float64",
         "type": "float"
        },
        {
         "name": "n15_s15_pd",
         "rawType": "float64",
         "type": "float"
        },
        {
         "name": "n9_s15_pd",
         "rawType": "float64",
         "type": "float"
        },
        {
         "name": "n3_s15_pd",
         "rawType": "float64",
         "type": "float"
        },
        {
         "name": "t3_s15_pd",
         "rawType": "float64",
         "type": "float"
        },
        {
         "name": "t9_s15_pd",
         "rawType": "float64",
         "type": "float"
        },
        {
         "name": "t15_s15_pd",
         "rawType": "float64",
         "type": "float"
        },
        {
         "name": "t21_s15_pd",
         "rawType": "float64",
         "type": "float"
        },
        {
         "name": "n27_s9_pd",
         "rawType": "float64",
         "type": "float"
        },
        {
         "name": "n21_s9_pd",
         "rawType": "float64",
         "type": "float"
        },
        {
         "name": "n15_s9_pd",
         "rawType": "float64",
         "type": "float"
        },
        {
         "name": "n9_s9_pd",
         "rawType": "float64",
         "type": "float"
        },
        {
         "name": "n3_s9_pd",
         "rawType": "float64",
         "type": "float"
        },
        {
         "name": "t3_s9_pd",
         "rawType": "float64",
         "type": "float"
        },
        {
         "name": "t9_s9_pd",
         "rawType": "float64",
         "type": "float"
        },
        {
         "name": "t15_s9_pd",
         "rawType": "float64",
         "type": "float"
        },
        {
         "name": "t21_s9_pd",
         "rawType": "float64",
         "type": "float"
        },
        {
         "name": "t27_s9_pd",
         "rawType": "float64",
         "type": "float"
        },
        {
         "name": "n27_s3_pd",
         "rawType": "float64",
         "type": "float"
        },
        {
         "name": "n21_s3_pd",
         "rawType": "float64",
         "type": "float"
        },
        {
         "name": "n15_s3_pd",
         "rawType": "float64",
         "type": "float"
        },
        {
         "name": "n9_s3_pd",
         "rawType": "float64",
         "type": "float"
        },
        {
         "name": "n3_s3_pd",
         "rawType": "float64",
         "type": "float"
        },
        {
         "name": "t3_s3_pd",
         "rawType": "float64",
         "type": "float"
        },
        {
         "name": "t9_s3_pd",
         "rawType": "float64",
         "type": "float"
        },
        {
         "name": "t15_s3_pd",
         "rawType": "float64",
         "type": "float"
        },
        {
         "name": "t21_s3_pd",
         "rawType": "float64",
         "type": "float"
        },
        {
         "name": "t27_s3_pd",
         "rawType": "float64",
         "type": "float"
        },
        {
         "name": "n27_i3_pd",
         "rawType": "float64",
         "type": "float"
        },
        {
         "name": "n21_i3_pd",
         "rawType": "float64",
         "type": "float"
        },
        {
         "name": "n15_i3_pd",
         "rawType": "float64",
         "type": "float"
        },
        {
         "name": "n9_i3_pd",
         "rawType": "float64",
         "type": "float"
        },
        {
         "name": "n3_i3_pd",
         "rawType": "float64",
         "type": "float"
        },
        {
         "name": "t3_i3_pd",
         "rawType": "float64",
         "type": "float"
        },
        {
         "name": "t9_i3_pd",
         "rawType": "float64",
         "type": "float"
        },
        {
         "name": "t15_i3_pd",
         "rawType": "float64",
         "type": "float"
        },
        {
         "name": "t21_i3_pd",
         "rawType": "float64",
         "type": "float"
        },
        {
         "name": "t27_i3_pd",
         "rawType": "float64",
         "type": "float"
        },
        {
         "name": "n27_i9_pd",
         "rawType": "float64",
         "type": "float"
        },
        {
         "name": "n21_i9_pd",
         "rawType": "float64",
         "type": "float"
        },
        {
         "name": "n15_i9_pd",
         "rawType": "float64",
         "type": "float"
        },
        {
         "name": "n9_i9_pd",
         "rawType": "float64",
         "type": "float"
        },
        {
         "name": "n3_i9_pd",
         "rawType": "float64",
         "type": "float"
        },
        {
         "name": "t3_i9_pd",
         "rawType": "float64",
         "type": "float"
        },
        {
         "name": "t9_i9_pd",
         "rawType": "float64",
         "type": "float"
        },
        {
         "name": "t15_i9_pd",
         "rawType": "float64",
         "type": "float"
        },
        {
         "name": "t21_i9_pd",
         "rawType": "float64",
         "type": "float"
        },
        {
         "name": "t27_i9_pd",
         "rawType": "float64",
         "type": "float"
        },
        {
         "name": "n21_i15_pd",
         "rawType": "float64",
         "type": "float"
        },
        {
         "name": "n15_i15_pd",
         "rawType": "float64",
         "type": "float"
        },
        {
         "name": "n9_i15_pd",
         "rawType": "float64",
         "type": "float"
        },
        {
         "name": "n3_i15_pd",
         "rawType": "float64",
         "type": "float"
        },
        {
         "name": "t3_i15_pd",
         "rawType": "float64",
         "type": "float"
        },
        {
         "name": "t9_i15_pd",
         "rawType": "float64",
         "type": "float"
        },
        {
         "name": "t15_i15_pd",
         "rawType": "float64",
         "type": "float"
        },
        {
         "name": "t21_i15_pd",
         "rawType": "float64",
         "type": "float"
        },
        {
         "name": "n15_i21_pd",
         "rawType": "float64",
         "type": "float"
        },
        {
         "name": "n9_i21_pd",
         "rawType": "float64",
         "type": "float"
        },
        {
         "name": "n3_i21_pd",
         "rawType": "float64",
         "type": "float"
        },
        {
         "name": "t3_i21_pd",
         "rawType": "float64",
         "type": "float"
        },
        {
         "name": "t9_i21_pd",
         "rawType": "float64",
         "type": "float"
        },
        {
         "name": "t15_i21_pd",
         "rawType": "float64",
         "type": "float"
        },
        {
         "name": "n9_i27_pd",
         "rawType": "float64",
         "type": "float"
        },
        {
         "name": "n3_i27_pd",
         "rawType": "float64",
         "type": "float"
        },
        {
         "name": "t3_i27_pd",
         "rawType": "float64",
         "type": "float"
        },
        {
         "name": "t9_i27_pd",
         "rawType": "float64",
         "type": "float"
        },
        {
         "name": "n9_s27_pdp",
         "rawType": "object",
         "type": "unknown"
        },
        {
         "name": "n3_s27_pdp",
         "rawType": "object",
         "type": "unknown"
        },
        {
         "name": "t3_s27_pdp",
         "rawType": "object",
         "type": "unknown"
        },
        {
         "name": "t9_s27_pdp",
         "rawType": "object",
         "type": "unknown"
        },
        {
         "name": "n15_s21_pdp",
         "rawType": "object",
         "type": "unknown"
        },
        {
         "name": "n9_s21_pdp",
         "rawType": "object",
         "type": "unknown"
        },
        {
         "name": "n3_s21_pdp",
         "rawType": "object",
         "type": "unknown"
        },
        {
         "name": "t3_s21_pdp",
         "rawType": "object",
         "type": "unknown"
        },
        {
         "name": "t9_s21_pdp",
         "rawType": "object",
         "type": "unknown"
        },
        {
         "name": "t15_s21_pdp",
         "rawType": "object",
         "type": "unknown"
        },
        {
         "name": "n21_s15_pdp",
         "rawType": "object",
         "type": "unknown"
        },
        {
         "name": "n15_s15_pdp",
         "rawType": "object",
         "type": "unknown"
        },
        {
         "name": "n9_s15_pdp",
         "rawType": "object",
         "type": "unknown"
        },
        {
         "name": "n3_s15_pdp",
         "rawType": "object",
         "type": "unknown"
        },
        {
         "name": "t3_s15_pdp",
         "rawType": "object",
         "type": "unknown"
        },
        {
         "name": "t9_s15_pdp",
         "rawType": "object",
         "type": "unknown"
        },
        {
         "name": "t15_s15_pdp",
         "rawType": "object",
         "type": "unknown"
        },
        {
         "name": "t21_s15_pdp",
         "rawType": "object",
         "type": "unknown"
        },
        {
         "name": "n27_s9_pdp",
         "rawType": "object",
         "type": "unknown"
        },
        {
         "name": "n21_s9_pdp",
         "rawType": "object",
         "type": "unknown"
        },
        {
         "name": "n15_s9_pdp",
         "rawType": "object",
         "type": "unknown"
        },
        {
         "name": "n9_s9_pdp",
         "rawType": "object",
         "type": "unknown"
        },
        {
         "name": "n3_s9_pdp",
         "rawType": "object",
         "type": "unknown"
        },
        {
         "name": "t3_s9_pdp",
         "rawType": "object",
         "type": "unknown"
        },
        {
         "name": "t9_s9_pdp",
         "rawType": "object",
         "type": "unknown"
        },
        {
         "name": "t15_s9_pdp",
         "rawType": "object",
         "type": "unknown"
        },
        {
         "name": "t21_s9_pdp",
         "rawType": "object",
         "type": "unknown"
        },
        {
         "name": "t27_s9_pdp",
         "rawType": "object",
         "type": "unknown"
        },
        {
         "name": "n27_s3_pdp",
         "rawType": "object",
         "type": "unknown"
        },
        {
         "name": "n21_s3_pdp",
         "rawType": "object",
         "type": "unknown"
        },
        {
         "name": "n15_s3_pdp",
         "rawType": "object",
         "type": "unknown"
        },
        {
         "name": "n9_s3_pdp",
         "rawType": "object",
         "type": "unknown"
        },
        {
         "name": "n3_s3_pdp",
         "rawType": "object",
         "type": "unknown"
        },
        {
         "name": "t3_s3_pdp",
         "rawType": "object",
         "type": "unknown"
        },
        {
         "name": "t9_s3_pdp",
         "rawType": "object",
         "type": "unknown"
        },
        {
         "name": "t15_s3_pdp",
         "rawType": "object",
         "type": "unknown"
        },
        {
         "name": "t21_s3_pdp",
         "rawType": "object",
         "type": "unknown"
        },
        {
         "name": "t27_s3_pdp",
         "rawType": "object",
         "type": "unknown"
        },
        {
         "name": "n27_i3_pdp",
         "rawType": "object",
         "type": "unknown"
        },
        {
         "name": "n21_i3_pdp",
         "rawType": "object",
         "type": "unknown"
        },
        {
         "name": "n15_i3_pdp",
         "rawType": "object",
         "type": "unknown"
        },
        {
         "name": "n9_i3_pdp",
         "rawType": "object",
         "type": "unknown"
        },
        {
         "name": "n3_i3_pdp",
         "rawType": "object",
         "type": "unknown"
        },
        {
         "name": "t3_i3_pdp",
         "rawType": "object",
         "type": "unknown"
        },
        {
         "name": "t9_i3_pdp",
         "rawType": "object",
         "type": "unknown"
        },
        {
         "name": "t15_i3_pdp",
         "rawType": "object",
         "type": "unknown"
        },
        {
         "name": "t21_i3_pdp",
         "rawType": "object",
         "type": "unknown"
        },
        {
         "name": "t27_i3_pdp",
         "rawType": "object",
         "type": "unknown"
        },
        {
         "name": "n27_i9_pdp",
         "rawType": "object",
         "type": "unknown"
        },
        {
         "name": "n21_i9_pdp",
         "rawType": "object",
         "type": "unknown"
        },
        {
         "name": "n15_i9_pdp",
         "rawType": "object",
         "type": "unknown"
        },
        {
         "name": "n9_i9_pdp",
         "rawType": "object",
         "type": "unknown"
        },
        {
         "name": "n3_i9_pdp",
         "rawType": "object",
         "type": "unknown"
        },
        {
         "name": "t3_i9_pdp",
         "rawType": "object",
         "type": "unknown"
        },
        {
         "name": "t9_i9_pdp",
         "rawType": "object",
         "type": "unknown"
        },
        {
         "name": "t15_i9_pdp",
         "rawType": "object",
         "type": "unknown"
        },
        {
         "name": "t21_i9_pdp",
         "rawType": "object",
         "type": "unknown"
        },
        {
         "name": "t27_i9_pdp",
         "rawType": "object",
         "type": "unknown"
        },
        {
         "name": "n21_i15_pdp",
         "rawType": "object",
         "type": "unknown"
        },
        {
         "name": "n15_i15_pdp",
         "rawType": "object",
         "type": "unknown"
        },
        {
         "name": "n9_i15_pdp",
         "rawType": "object",
         "type": "unknown"
        },
        {
         "name": "n3_i15_pdp",
         "rawType": "object",
         "type": "unknown"
        },
        {
         "name": "t3_i15_pdp",
         "rawType": "object",
         "type": "unknown"
        },
        {
         "name": "t9_i15_pdp",
         "rawType": "object",
         "type": "unknown"
        },
        {
         "name": "t15_i15_pdp",
         "rawType": "object",
         "type": "unknown"
        },
        {
         "name": "t21_i15_pdp",
         "rawType": "object",
         "type": "unknown"
        },
        {
         "name": "n15_i21_pdp",
         "rawType": "object",
         "type": "unknown"
        },
        {
         "name": "n9_i21_pdp",
         "rawType": "object",
         "type": "unknown"
        },
        {
         "name": "n3_i21_pdp",
         "rawType": "object",
         "type": "unknown"
        },
        {
         "name": "t3_i21_pdp",
         "rawType": "object",
         "type": "unknown"
        },
        {
         "name": "t9_i21_pdp",
         "rawType": "object",
         "type": "unknown"
        },
        {
         "name": "t15_i21_pdp",
         "rawType": "object",
         "type": "unknown"
        },
        {
         "name": "n9_i27_pdp",
         "rawType": "object",
         "type": "unknown"
        },
        {
         "name": "n3_i27_pdp",
         "rawType": "object",
         "type": "unknown"
        },
        {
         "name": "t3_i27_pdp",
         "rawType": "object",
         "type": "unknown"
        },
        {
         "name": "t9_i27_pdp",
         "rawType": "object",
         "type": "unknown"
        },
        {
         "name": "test_type",
         "rawType": "float64",
         "type": "float"
        },
        {
         "name": "vatype",
         "rawType": "float64",
         "type": "float"
        }
       ],
       "ref": "e2e36137-3827-49d2-9b54-6473e7ba045f",
       "rows": [
        [
         "0",
         "1.2.276.0.75.2.5.80.25.3.190123133623332.93180999879162.31338402.pdf",
         "1.2.276.0.75.2.5.80.25.3.190123133622780.93180999879162.31338398.dcm",
         "VIP009279",
         "11/17/1949",
         "12/24/2016",
         "L",
         "3.25",
         "0.0",
         "0",
         null,
         null,
         "24-2",
         null,
         null,
         "Size III",
         "White",
         "200",
         "10000.00004563123",
         "31.5000018024993",
         "White",
         "Blindspot",
         "CENTRAL",
         "3.1.0.137678-349\\\\5.0",
         "750-12645",
         "6' 57\"",
         "1",
         "13",
         "9.0",
         "0.0",
         "17.539791",
         null,
         "-11.39",
         "< 0.5%",
         "9.3199997",
         "< 0.5%",
         "79.0",
         "Outside Normal Limits",
         "31.0",
         "< 2%",
         null,
         null,
         null,
         null,
         null,
         "-1",
         "-1",
         "-1",
         "-1",
         null,
         null,
         "16",
         "24",
         "24",
         "21",
         "-1",
         "6",
         null,
         null,
         "-1",
         "23",
         "24",
         "26",
         "22",
         "23",
         "6",
         "11",
         null,
         "-1",
         "-1",
         "25",
         "27",
         "28",
         "24",
         "23",
         "22",
         "13",
         null,
         "0",
         "5",
         "26",
         "25",
         "28",
         "27",
         "24",
         "8",
         "25",
         null,
         null,
         "16",
         "27",
         "27",
         "27",
         "27",
         "23",
         "26",
         "23",
         null,
         null,
         "16",
         "22",
         "25",
         "25",
         "24",
         "18",
         null,
         null,
         "-1",
         "3",
         "22",
         "22",
         null,
         null,
         null,
         null,
         null,
         null,
         null,
         null,
         null,
         null,
         "-29",
         "-29",
         "-28",
         "-28",
         null,
         null,
         "-12",
         "-5",
         "-5",
         "-8",
         "-30",
         "-22",
         null,
         null,
         "-30",
         "-7",
         "-7",
         "-5",
         "-9",
         "-7",
         "-24",
         "-18",
         null,
         "-29",
         "-31",
         "-5",
         "-5",
         "-4",
         "-8",
         "-8",
         "0",
         "-16",
         null,
         "-27",
         "-24",
         "-5",
         "-7",
         "-5",
         "-5",
         "-7",
         "0",
         "-5",
         null,
         null,
         "-13",
         "-4",
         "-5",
         "-5",
         "-5",
         "-9",
         "-5",
         "-7",
         null,
         null,
         "-13",
         "-8",
         "-6",
         "-6",
         "-7",
         "-12",
         null,
         null,
         "-31",
         "-26",
         "-8",
         "-8",
         null,
         null,
         null,
         null,
         null,
         null,
         null,
         null,
         null,
         null,
         "< 0.5%",
         "< 0.5%",
         "< 0.5%",
         "< 0.5%",
         null,
         null,
         "< 0.5%",
         "< 1%",
         "< 2%",
         "< 0.5%",
         "< 0.5%",
         "< 0.5%",
         null,
         null,
         "< 0.5%",
         "< 0.5%",
         "< 0.5%",
         "< 1%",
         "< 0.5%",
         "< 0.5%",
         "< 0.5%",
         "< 0.5%",
         null,
         "< 0.5%",
         "< 0.5%",
         "< 1%",
         "< 1%",
         "< 1%",
         "< 0.5%",
         "< 0.5%",
         "Not Significant",
         "< 0.5%",
         null,
         "< 0.5%",
         "< 0.5%",
         "< 1%",
         "< 0.5%",
         "< 1%",
         "< 1%",
         "< 1%",
         "Not Significant",
         "< 2%",
         null,
         null,
         "< 0.5%",
         "< 2%",
         "< 1%",
         "< 1%",
         "< 1%",
         "< 1%",
         "< 2%",
         "< 1%",
         null,
         null,
         "< 0.5%",
         "< 0.5%",
         "< 1%",
         "< 1%",
         "< 1%",
         "< 1%",
         null,
         null,
         "< 0.5%",
         "< 0.5%",
         "< 1%",
         "< 1%",
         null,
         null,
         null,
         null,
         null,
         null,
         null,
         null,
         null,
         null,
         "-24.0",
         "-24.0",
         "-24.0",
         "-23.0",
         null,
         null,
         "-7.0",
         "0.0",
         "0.0",
         "-3.0",
         "-25.0",
         "-17.0",
         null,
         null,
         "-26.0",
         "-2.0",
         "-2.0",
         "0.0",
         "-4.0",
         "-2.0",
         "-19.0",
         "-13.0",
         null,
         "-24.0",
         "-26.0",
         "-1.0",
         "0.0",
         "1.0",
         "-3.0",
         "-4.0",
         "0.0",
         "-11.0",
         null,
         "-22.0",
         "-19.0",
         "0.0",
         "-2.0",
         "0.0",
         "0.0",
         "-3.0",
         "0.0",
         "0.0",
         null,
         null,
         "-8.0",
         "1.0",
         "0.0",
         "0.0",
         "0.0",
         "-4.0",
         "0.0",
         "-2.0",
         null,
         null,
         "-8.0",
         "-3.0",
         "-1.0",
         "-1.0",
         "-2.0",
         "-7.0",
         null,
         null,
         "-26.0",
         "-21.0",
         "-3.0",
         "-3.0",
         null,
         null,
         null,
         null,
         null,
         null,
         null,
         null,
         null,
         null,
         "< 0.5%",
         "< 0.5%",
         "< 0.5%",
         "< 0.5%",
         null,
         null,
         "< 1%",
         "Not Significant",
         "Not Significant",
         "Not Significant",
         "< 0.5%",
         "< 0.5%",
         null,
         null,
         "< 0.5%",
         "Not Significant",
         "Not Significant",
         "Not Significant",
         "< 5%",
         "Not Significant",
         "< 0.5%",
         "< 0.5%",
         null,
         "< 0.5%",
         "< 0.5%",
         "Not Significant",
         "Not Significant",
         "Not Significant",
         "Not Significant",
         "< 5%",
         "Not Significant",
         "< 0.5%",
         null,
         "< 0.5%",
         "< 0.5%",
         "Not Significant",
         "Not Significant",
         "Not Significant",
         "Not Significant",
         "Not Significant",
         "Not Significant",
         "Not Significant",
         null,
         null,
         "< 1%",
         "Not Significant",
         "Not Significant",
         "Not Significant",
         "Not Significant",
         "< 5%",
         "Not Significant",
         "Not Significant",
         null,
         null,
         "< 0.5%",
         "Not Significant",
         "Not Significant",
         "Not Significant",
         "Not Significant",
         "< 1%",
         null,
         null,
         "< 0.5%",
         "< 0.5%",
         "Not Significant",
         "Not Significant",
         null,
         null,
         null,
         null,
         null,
         null,
         null
        ],
        [
         "1",
         "1.2.276.0.75.2.5.80.25.3.190123133624307.93180999879162.31338415.pdf",
         "1.2.276.0.75.2.5.80.25.3.190123133623936.93180999879162.31338411.dcm",
         "VIP009279",
         "11/17/1949",
         "12/24/2016",
         "R",
         "3.25",
         "0.0",
         "0",
         "3.9",
         null,
         "24-2",
         null,
         null,
         "Size III",
         "White",
         "200",
         "10000.00004563123",
         "31.5000018024993",
         "White",
         "Blindspot",
         "CENTRAL",
         "3.1.0.137678-349\\\\5.0",
         "750-12645",
         "6' 9\"",
         "7",
         "13",
         "8.0",
         "0.0",
         "9.8522921",
         null,
         "-19.83",
         "< 0.5%",
         "4.9400001",
         "< 0.5%",
         "70.0",
         "Outside Normal Limits",
         "18.0",
         "< 0.5%",
         null,
         null,
         null,
         null,
         null,
         "7",
         "2",
         "0",
         "-1",
         null,
         null,
         "12",
         "11",
         "9",
         "11",
         "10",
         "0",
         null,
         null,
         "9",
         "15",
         "9",
         "12",
         "16",
         "12",
         "11",
         "7",
         null,
         "12",
         "-1",
         "14",
         "15",
         "16",
         "20",
         "17",
         "10",
         "3",
         null,
         "10",
         "12",
         "14",
         "15",
         "17",
         "19",
         "17",
         "16",
         "5",
         null,
         null,
         "4",
         "5",
         "11",
         "10",
         "17",
         "14",
         "13",
         "11",
         null,
         null,
         "10",
         "11",
         "10",
         "10",
         "6",
         "8",
         null,
         null,
         "0",
         "0",
         "7",
         "-1",
         null,
         null,
         null,
         null,
         null,
         null,
         null,
         null,
         null,
         null,
         "-20",
         "-25",
         "-26",
         "-28",
         null,
         null,
         "-16",
         "-18",
         "-20",
         "-18",
         "-18",
         "-28",
         null,
         null,
         "-19",
         "-15",
         "-21",
         "-19",
         "-14",
         "-18",
         "-19",
         "-21",
         null,
         "-15",
         "-31",
         "-17",
         "-17",
         "-16",
         "-12",
         "-14",
         "0",
         "-27",
         null,
         "-17",
         "-18",
         "-17",
         "-17",
         "-16",
         "-13",
         "-15",
         "0",
         "-25",
         null,
         null,
         "-25",
         "-26",
         "-21",
         "-22",
         "-15",
         "-17",
         "-17",
         "-19",
         null,
         null,
         "-20",
         "-20",
         "-21",
         "-21",
         "-25",
         "-22",
         null,
         null,
         "-29",
         "-29",
         "-23",
         "-31",
         null,
         null,
         null,
         null,
         null,
         null,
         null,
         null,
         null,
         null,
         "< 0.5%",
         "< 0.5%",
         "< 0.5%",
         "< 0.5%",
         null,
         null,
         "< 0.5%",
         "< 0.5%",
         "< 0.5%",
         "< 0.5%",
         "< 0.5%",
         "< 0.5%",
         null,
         null,
         "< 0.5%",
         "< 0.5%",
         "< 0.5%",
         "< 0.5%",
         "< 0.5%",
         "< 0.5%",
         "< 0.5%",
         "< 0.5%",
         null,
         "< 1%",
         "< 0.5%",
         "< 0.5%",
         "< 0.5%",
         "< 0.5%",
         "< 0.5%",
         "< 0.5%",
         "Not Significant",
         "< 0.5%",
         null,
         "< 0.5%",
         "< 0.5%",
         "< 0.5%",
         "< 0.5%",
         "< 0.5%",
         "< 0.5%",
         "< 0.5%",
         "Not Significant",
         "< 0.5%",
         null,
         null,
         "< 0.5%",
         "< 0.5%",
         "< 0.5%",
         "< 0.5%",
         "< 0.5%",
         "< 0.5%",
         "< 0.5%",
         "< 0.5%",
         null,
         null,
         "< 0.5%",
         "< 0.5%",
         "< 0.5%",
         "< 0.5%",
         "< 0.5%",
         "< 0.5%",
         null,
         null,
         "< 0.5%",
         "< 0.5%",
         "< 0.5%",
         "< 0.5%",
         null,
         null,
         null,
         null,
         null,
         null,
         null,
         null,
         null,
         null,
         "-5.0",
         "-10.0",
         "-11.0",
         "-13.0",
         null,
         null,
         "-1.0",
         "-3.0",
         "-5.0",
         "-3.0",
         "-4.0",
         "-13.0",
         null,
         null,
         "-4.0",
         "0.0",
         "-6.0",
         "-4.0",
         "1.0",
         "-3.0",
         "-4.0",
         "-6.0",
         null,
         "0.0",
         "-16.0",
         "-2.0",
         "-2.0",
         "-1.0",
         "3.0",
         "1.0",
         "0.0",
         "-12.0",
         null,
         "-2.0",
         "-3.0",
         "-2.0",
         "-2.0",
         "-1.0",
         "2.0",
         "0.0",
         "0.0",
         "-10.0",
         null,
         null,
         "-10.0",
         "-11.0",
         "-6.0",
         "-7.0",
         "0.0",
         "-2.0",
         "-2.0",
         "-4.0",
         null,
         null,
         "-5.0",
         "-5.0",
         "-6.0",
         "-6.0",
         "-10.0",
         "-7.0",
         null,
         null,
         "-14.0",
         "-14.0",
         "-8.0",
         "-16.0",
         null,
         null,
         null,
         null,
         null,
         null,
         null,
         null,
         null,
         null,
         "< 5%",
         "< 1%",
         "< 0.5%",
         "< 0.5%",
         null,
         null,
         "Not Significant",
         "Not Significant",
         "< 2%",
         "Not Significant",
         "Not Significant",
         "< 0.5%",
         null,
         null,
         "< 5%",
         "Not Significant",
         "< 0.5%",
         "< 2%",
         "Not Significant",
         "Not Significant",
         "Not Significant",
         "< 2%",
         null,
         "Not Significant",
         "< 0.5%",
         "Not Significant",
         "Not Significant",
         "Not Significant",
         "Not Significant",
         "Not Significant",
         "Not Significant",
         "< 0.5%",
         null,
         "Not Significant",
         "Not Significant",
         "Not Significant",
         "Not Significant",
         "Not Significant",
         "Not Significant",
         "Not Significant",
         "Not Significant",
         "< 0.5%",
         null,
         null,
         "< 0.5%",
         "< 0.5%",
         "< 0.5%",
         "< 0.5%",
         "Not Significant",
         "Not Significant",
         "Not Significant",
         "Not Significant",
         null,
         null,
         "< 2%",
         "< 2%",
         "< 1%",
         "< 1%",
         "< 0.5%",
         "< 1%",
         null,
         null,
         "< 0.5%",
         "< 0.5%",
         "< 1%",
         "< 0.5%",
         null,
         null,
         null,
         null,
         null,
         null,
         null
        ],
        [
         "2",
         "1.2.276.0.75.2.5.80.25.3.190123133722362.93180999879162.31339288.pdf",
         "1.2.276.0.75.2.5.80.25.3.190123133721903.93180999879162.31339282.dcm",
         "VIP112677",
         "06/01/1962",
         "03/04/2011",
         "L",
         "2.0",
         "0.0",
         "0",
         "4.4",
         null,
         "24-2",
         null,
         null,
         "Size III",
         "White",
         "200",
         "10000.00004563123",
         "31.5000018024993",
         "White",
         "Blindspot",
         "CENTRAL",
         "3.1.0.137678-349\\\\4.0",
         "745-5230",
         "8' 34\"",
         "0",
         "15",
         null,
         "0.0",
         "3.8089583",
         null,
         "-26.83",
         "< 0.5%",
         "4.79",
         "< 0.5%",
         "17.0",
         "Outside Normal Limits",
         "21.0",
         "< 0.5%",
         null,
         null,
         null,
         null,
         null,
         "-1",
         "-1",
         "-1",
         "-1",
         null,
         null,
         "-1",
         "0",
         "2",
         "1",
         "8",
         "2",
         null,
         null,
         "-1",
         "0",
         "6",
         "10",
         "8",
         "14",
         "4",
         "-1",
         null,
         "-1",
         "-1",
         "0",
         "11",
         "10",
         "7",
         "6",
         "5",
         "-1",
         null,
         "-1",
         "-1",
         "0",
         "5",
         "7",
         "8",
         "12",
         "-1",
         "0",
         null,
         null,
         "-1",
         "3",
         "14",
         "6",
         "10",
         "16",
         "11",
         "1",
         null,
         null,
         "-1",
         "4",
         "3",
         "0",
         "11",
         "7",
         null,
         null,
         "-1",
         "-1",
         "-1",
         "-1",
         null,
         null,
         null,
         null,
         null,
         null,
         null,
         null,
         null,
         null,
         "-30",
         "-30",
         "-29",
         "-29",
         null,
         null,
         "-31",
         "-30",
         "-28",
         "-28",
         "-22",
         "-26",
         null,
         null,
         "-31",
         "-31",
         "-25",
         "-22",
         "-23",
         "-17",
         "-26",
         "-31",
         null,
         "-29",
         "-32",
         "-32",
         "-22",
         "-22",
         "-25",
         "-26",
         "0",
         "-32",
         null,
         "-30",
         "-32",
         "-32",
         "-27",
         "-26",
         "-25",
         "-20",
         "0",
         "-30",
         null,
         null,
         "-31",
         "-29",
         "-19",
         "-27",
         "-23",
         "-16",
         "-21",
         "-29",
         null,
         null,
         "-32",
         "-27",
         "-29",
         "-31",
         "-20",
         "-23",
         null,
         null,
         "-31",
         "-32",
         "-32",
         "-32",
         null,
         null,
         null,
         null,
         null,
         null,
         null,
         null,
         null,
         null,
         "< 0.5%",
         "< 0.5%",
         "< 0.5%",
         "< 0.5%",
         null,
         null,
         "< 0.5%",
         "< 0.5%",
         "< 0.5%",
         "< 0.5%",
         "< 0.5%",
         "< 0.5%",
         null,
         null,
         "< 0.5%",
         "< 0.5%",
         "< 0.5%",
         "< 0.5%",
         "< 0.5%",
         "< 0.5%",
         "< 0.5%",
         "< 0.5%",
         null,
         "< 0.5%",
         "< 0.5%",
         "< 0.5%",
         "< 0.5%",
         "< 0.5%",
         "< 0.5%",
         "< 0.5%",
         "Not Significant",
         "< 0.5%",
         null,
         "< 0.5%",
         "< 0.5%",
         "< 0.5%",
         "< 0.5%",
         "< 0.5%",
         "< 0.5%",
         "< 0.5%",
         "Not Significant",
         "< 0.5%",
         null,
         null,
         "< 0.5%",
         "< 0.5%",
         "< 0.5%",
         "< 0.5%",
         "< 0.5%",
         "< 0.5%",
         "< 0.5%",
         "< 0.5%",
         null,
         null,
         "< 0.5%",
         "< 0.5%",
         "< 0.5%",
         "< 0.5%",
         "< 0.5%",
         "< 0.5%",
         null,
         null,
         "< 0.5%",
         "< 0.5%",
         "< 0.5%",
         "< 0.5%",
         null,
         null,
         null,
         null,
         null,
         null,
         null,
         null,
         null,
         null,
         null,
         null,
         null,
         null,
         null,
         null,
         null,
         null,
         null,
         null,
         null,
         null,
         null,
         null,
         null,
         null,
         null,
         null,
         null,
         null,
         null,
         null,
         null,
         null,
         null,
         null,
         null,
         null,
         null,
         null,
         null,
         null,
         null,
         null,
         null,
         null,
         null,
         null,
         null,
         null,
         null,
         null,
         null,
         null,
         null,
         null,
         null,
         null,
         null,
         null,
         null,
         null,
         null,
         null,
         null,
         null,
         null,
         null,
         null,
         null,
         null,
         null,
         null,
         null,
         null,
         null,
         null,
         null,
         null,
         null,
         null,
         null,
         null,
         null,
         null,
         null,
         null,
         null,
         null,
         null,
         null,
         null,
         null,
         null,
         null,
         null,
         null,
         null,
         null,
         null,
         null,
         null,
         null,
         null,
         null,
         null,
         null,
         null,
         null,
         null,
         null,
         null,
         null,
         null,
         null,
         null,
         null,
         null,
         null,
         null,
         null,
         null,
         null,
         null,
         null,
         null,
         null,
         null,
         null,
         null,
         null,
         null,
         null,
         null,
         null,
         null,
         null,
         null,
         null,
         null,
         null,
         null,
         null,
         null,
         null,
         null,
         null,
         null,
         null,
         null,
         null,
         null,
         null,
         null,
         null,
         null,
         null,
         null,
         null
        ],
        [
         "3",
         "1.2.276.0.75.2.5.80.25.3.190123133723983.93180999879162.31339314.pdf",
         "1.2.276.0.75.2.5.80.25.3.190123133723701.93180999879162.31339310.dcm",
         "VIP112677",
         "06/01/1962",
         "11/20/2010",
         "L",
         "1.25",
         "0.0",
         "0",
         "4.4",
         null,
         "24-2",
         null,
         null,
         "Size III",
         "White",
         "200",
         "10000.00004563123",
         "31.5000018024993",
         "White",
         "Blindspot",
         "CENTRAL",
         "3.1.0.137678-349\\\\4.2",
         "750-12610",
         "8' 10\"",
         "0",
         "18",
         "26.0",
         "5.0",
         "12.0335417",
         null,
         "-19.18",
         "< 0.5%",
         "10.5",
         "< 0.5%",
         "40.0",
         "Outside Normal Limits",
         "24.0",
         "< 0.5%",
         null,
         null,
         null,
         null,
         null,
         "9",
         "18",
         "13",
         "8",
         null,
         null,
         "6",
         "20",
         "21",
         "11",
         "21",
         "14",
         null,
         null,
         "14",
         "25",
         "25",
         "27",
         "27",
         "25",
         "16",
         "11",
         null,
         "-1",
         "21",
         "24",
         "28",
         "10",
         "0",
         "19",
         "5",
         "13",
         null,
         "-1",
         "13",
         "13",
         "4",
         "-1",
         "0",
         "10",
         "-1",
         "6",
         null,
         null,
         "16",
         "24",
         "14",
         "-1",
         "5",
         "8",
         "14",
         "-1",
         null,
         null,
         "17",
         "15",
         "6",
         "17",
         "9",
         "-1",
         null,
         null,
         "-1",
         "3",
         "-1",
         "-1",
         null,
         null,
         null,
         null,
         null,
         null,
         null,
         null,
         null,
         null,
         "-18",
         "-10",
         "-15",
         "-19",
         null,
         null,
         "-23",
         "-10",
         "-9",
         "-19",
         "-9",
         "-15",
         null,
         null,
         "-15",
         "-6",
         "-6",
         "-5",
         "-4",
         "-6",
         "-14",
         "-18",
         null,
         "-30",
         "-9",
         "-8",
         "-5",
         "-23",
         "-33",
         "-13",
         "0",
         "-17",
         null,
         "-30",
         "-17",
         "-19",
         "-29",
         "-35",
         "-33",
         "-23",
         "0",
         "-25",
         null,
         null,
         "-14",
         "-7",
         "-18",
         "-35",
         "-28",
         "-24",
         "-18",
         "-32",
         null,
         null,
         "-13",
         "-17",
         "-25",
         "-14",
         "-22",
         "-33",
         null,
         null,
         "-31",
         "-27",
         "-32",
         "-32",
         null,
         null,
         null,
         null,
         null,
         null,
         null,
         null,
         null,
         null,
         "< 0.5%",
         "< 1%",
         "< 0.5%",
         "< 0.5%",
         null,
         null,
         "< 0.5%",
         "< 0.5%",
         "< 0.5%",
         "< 0.5%",
         "< 0.5%",
         "< 0.5%",
         null,
         null,
         "< 0.5%",
         "< 1%",
         "< 0.5%",
         "< 1%",
         "< 2%",
         "< 1%",
         "< 0.5%",
         "< 0.5%",
         null,
         "< 0.5%",
         "< 0.5%",
         "< 0.5%",
         "< 1%",
         "< 0.5%",
         "< 0.5%",
         "< 0.5%",
         "Not Significant",
         "< 0.5%",
         null,
         "< 0.5%",
         "< 0.5%",
         "< 0.5%",
         "< 0.5%",
         "< 0.5%",
         "< 0.5%",
         "< 0.5%",
         "Not Significant",
         "< 0.5%",
         null,
         null,
         "< 0.5%",
         "< 0.5%",
         "< 0.5%",
         "< 0.5%",
         "< 0.5%",
         "< 0.5%",
         "< 0.5%",
         "< 0.5%",
         null,
         null,
         "< 0.5%",
         "< 0.5%",
         "< 0.5%",
         "< 0.5%",
         "< 0.5%",
         "< 0.5%",
         null,
         null,
         "< 0.5%",
         "< 0.5%",
         "< 0.5%",
         "< 0.5%",
         null,
         null,
         null,
         null,
         null,
         null,
         null,
         null,
         null,
         null,
         "-11.0",
         "-3.0",
         "-8.0",
         "-12.0",
         null,
         null,
         "-16.0",
         "-3.0",
         "-2.0",
         "-12.0",
         "-2.0",
         "-8.0",
         null,
         null,
         "-8.0",
         "1.0",
         "1.0",
         "2.0",
         "3.0",
         "1.0",
         "-7.0",
         "-11.0",
         null,
         "-23.0",
         "-2.0",
         "-1.0",
         "2.0",
         "-16.0",
         "-26.0",
         "-6.0",
         "0.0",
         "-10.0",
         null,
         "-23.0",
         "-10.0",
         "-12.0",
         "-22.0",
         "-28.0",
         "-26.0",
         "-16.0",
         "0.0",
         "-18.0",
         null,
         null,
         "-7.0",
         "0.0",
         "-11.0",
         "-28.0",
         "-21.0",
         "-17.0",
         "-11.0",
         "-25.0",
         null,
         null,
         "-6.0",
         "-10.0",
         "-18.0",
         "-7.0",
         "-15.0",
         "-26.0",
         null,
         null,
         "-24.0",
         "-20.0",
         "-25.0",
         "-25.0",
         null,
         null,
         null,
         null,
         null,
         null,
         null,
         null,
         null,
         null,
         "< 0.5%",
         "Not Significant",
         "< 2%",
         "< 1%",
         null,
         null,
         "< 0.5%",
         "Not Significant",
         "Not Significant",
         "< 0.5%",
         "Not Significant",
         "< 2%",
         null,
         null,
         "< 1%",
         "Not Significant",
         "Not Significant",
         "Not Significant",
         "Not Significant",
         "Not Significant",
         "< 1%",
         "< 0.5%",
         null,
         "< 0.5%",
         "Not Significant",
         "Not Significant",
         "Not Significant",
         "< 0.5%",
         "< 0.5%",
         "< 0.5%",
         "Not Significant",
         "< 0.5%",
         null,
         "< 0.5%",
         "< 0.5%",
         "< 0.5%",
         "< 0.5%",
         "< 0.5%",
         "< 0.5%",
         "< 0.5%",
         "Not Significant",
         "< 0.5%",
         null,
         null,
         "< 2%",
         "Not Significant",
         "< 0.5%",
         "< 0.5%",
         "< 0.5%",
         "< 0.5%",
         "< 0.5%",
         "< 0.5%",
         null,
         null,
         "< 2%",
         "< 0.5%",
         "< 0.5%",
         "< 0.5%",
         "< 0.5%",
         "< 0.5%",
         null,
         null,
         "< 0.5%",
         "< 0.5%",
         "< 0.5%",
         "< 0.5%",
         null,
         null,
         null,
         null,
         null,
         null,
         null
        ],
        [
         "4",
         "1.2.276.0.75.2.5.80.25.3.190123133724566.93180999879162.31339325.pdf",
         "1.2.276.0.75.2.5.80.25.3.190123133724289.93180999879162.31339321.dcm",
         "VIP112677",
         "06/01/1962",
         "11/20/2010",
         "R",
         "2.0",
         "0.0",
         "0",
         "4.7",
         null,
         "24-2",
         null,
         null,
         "Size III",
         "White",
         "200",
         "10000.00004563123",
         "31.5000018024993",
         "White",
         "Blindspot",
         "CENTRAL",
         "3.1.0.137678-349\\\\4.2",
         "750-12610",
         "5' 49\"",
         "1",
         "15",
         "10.0",
         "0.0",
         "27.575001",
         null,
         "-2.4200001",
         "< 5%",
         "3.25",
         "< 1%",
         "97.0",
         "Outside Normal Limits",
         "35.0",
         "Not Significant",
         null,
         null,
         null,
         null,
         null,
         "21",
         "24",
         "22",
         "24",
         null,
         null,
         "29",
         "28",
         "28",
         "24",
         "26",
         "26",
         null,
         null,
         "25",
         "30",
         "34",
         "30",
         "30",
         "30",
         "28",
         "24",
         null,
         "7",
         "28",
         "34",
         "32",
         "33",
         "31",
         "30",
         "23",
         "27",
         null,
         "22",
         "28",
         "30",
         "33",
         "33",
         "34",
         "32",
         "0",
         "28",
         null,
         null,
         "26",
         "30",
         "30",
         "30",
         "30",
         "31",
         "30",
         "28",
         null,
         null,
         "28",
         "29",
         "27",
         "28",
         "29",
         "29",
         null,
         null,
         "22",
         "28",
         "15",
         "25",
         null,
         null,
         null,
         null,
         null,
         null,
         null,
         null,
         null,
         null,
         "-7",
         "-3",
         "-5",
         "-3",
         null,
         null,
         "0",
         "-2",
         "-2",
         "-6",
         "-4",
         "-2",
         null,
         null,
         "-4",
         "-1",
         "2",
         "-2",
         "-2",
         "-1",
         "-2",
         "-5",
         null,
         "-20",
         "-2",
         "2",
         "-1",
         "0",
         "-2",
         "-2",
         "0",
         "-4",
         null,
         "-5",
         "-2",
         "-1",
         "0",
         "0",
         "1",
         "0",
         "0",
         "-3",
         null,
         null,
         "-4",
         "-1",
         "-3",
         "-3",
         "-3",
         "-1",
         "-1",
         "-3",
         null,
         null,
         "-2",
         "-2",
         "-5",
         "-3",
         "-3",
         "-1",
         null,
         null,
         "-7",
         "-2",
         "-15",
         "-5",
         null,
         null,
         null,
         null,
         null,
         null,
         null,
         null,
         null,
         null,
         "< 2%",
         "Not Significant",
         "< 5%",
         "Not Significant",
         null,
         null,
         "Not Significant",
         "Not Significant",
         "Not Significant",
         "< 1%",
         "< 5%",
         "Not Significant",
         null,
         null,
         "< 5%",
         "Not Significant",
         "Not Significant",
         "Not Significant",
         "Not Significant",
         "Not Significant",
         "Not Significant",
         "< 5%",
         null,
         "< 0.5%",
         "Not Significant",
         "Not Significant",
         "Not Significant",
         "Not Significant",
         "Not Significant",
         "Not Significant",
         "Not Significant",
         "< 5%",
         null,
         "< 5%",
         "Not Significant",
         "Not Significant",
         "Not Significant",
         "Not Significant",
         "Not Significant",
         "Not Significant",
         "Not Significant",
         "Not Significant",
         null,
         null,
         "< 5%",
         "Not Significant",
         "< 5%",
         "< 5%",
         "Not Significant",
         "Not Significant",
         "Not Significant",
         "Not Significant",
         null,
         null,
         "Not Significant",
         "Not Significant",
         "< 1%",
         "< 5%",
         "Not Significant",
         "Not Significant",
         null,
         null,
         "< 1%",
         "Not Significant",
         "< 0.5%",
         "< 5%",
         null,
         null,
         null,
         null,
         null,
         null,
         null,
         null,
         null,
         null,
         "-7.0",
         "-3.0",
         "-5.0",
         "-3.0",
         null,
         null,
         "0.0",
         "-2.0",
         "-1.0",
         "-6.0",
         "-3.0",
         "-2.0",
         null,
         null,
         "-4.0",
         "0.0",
         "3.0",
         "-2.0",
         "-2.0",
         "-1.0",
         "-2.0",
         "-5.0",
         null,
         "-20.0",
         "-1.0",
         "2.0",
         "-1.0",
         "0.0",
         "-1.0",
         "-1.0",
         "0.0",
         "-3.0",
         null,
         "-5.0",
         "-2.0",
         "-1.0",
         "0.0",
         "0.0",
         "1.0",
         "0.0",
         "0.0",
         "-2.0",
         null,
         null,
         "-3.0",
         "-1.0",
         "-2.0",
         "-3.0",
         "-2.0",
         "-1.0",
         "-1.0",
         "-2.0",
         null,
         null,
         "-2.0",
         "-2.0",
         "-5.0",
         "-3.0",
         "-2.0",
         "-1.0",
         null,
         null,
         "-7.0",
         "-2.0",
         "-15.0",
         "-4.0",
         null,
         null,
         null,
         null,
         null,
         null,
         null,
         null,
         null,
         null,
         "< 2%",
         "Not Significant",
         "Not Significant",
         "Not Significant",
         null,
         null,
         "Not Significant",
         "Not Significant",
         "Not Significant",
         "< 2%",
         "Not Significant",
         "Not Significant",
         null,
         null,
         "Not Significant",
         "Not Significant",
         "Not Significant",
         "Not Significant",
         "Not Significant",
         "Not Significant",
         "Not Significant",
         "< 5%",
         null,
         "< 0.5%",
         "Not Significant",
         "Not Significant",
         "Not Significant",
         "Not Significant",
         "Not Significant",
         "Not Significant",
         "Not Significant",
         "Not Significant",
         null,
         "Not Significant",
         "Not Significant",
         "Not Significant",
         "Not Significant",
         "Not Significant",
         "Not Significant",
         "Not Significant",
         "Not Significant",
         "Not Significant",
         null,
         null,
         "Not Significant",
         "Not Significant",
         "Not Significant",
         "Not Significant",
         "Not Significant",
         "Not Significant",
         "Not Significant",
         "Not Significant",
         null,
         null,
         "Not Significant",
         "Not Significant",
         "< 2%",
         "Not Significant",
         "Not Significant",
         "Not Significant",
         null,
         null,
         "< 1%",
         "Not Significant",
         "< 0.5%",
         "< 5%",
         null,
         null,
         null,
         null,
         null,
         null,
         null
        ]
       ],
       "shape": {
        "columns": 421,
        "rows": 5
       }
      },
      "text/html": [
       "<div>\n",
       "<style scoped>\n",
       "    .dataframe tbody tr th:only-of-type {\n",
       "        vertical-align: middle;\n",
       "    }\n",
       "\n",
       "    .dataframe tbody tr th {\n",
       "        vertical-align: top;\n",
       "    }\n",
       "\n",
       "    .dataframe thead th {\n",
       "        text-align: right;\n",
       "    }\n",
       "</style>\n",
       "<table border=\"1\" class=\"dataframe\">\n",
       "  <thead>\n",
       "    <tr style=\"text-align: right;\">\n",
       "      <th></th>\n",
       "      <th>pdf_filename</th>\n",
       "      <th>opv_filename</th>\n",
       "      <th>maskedid</th>\n",
       "      <th>aedob_shift</th>\n",
       "      <th>aeexamdate_shift</th>\n",
       "      <th>eye</th>\n",
       "      <th>trial_rx_sphere</th>\n",
       "      <th>trial_rx_cylinder</th>\n",
       "      <th>trial_rx_axis</th>\n",
       "      <th>pupil_diameter</th>\n",
       "      <th>...</th>\n",
       "      <th>n3_i21_pdp</th>\n",
       "      <th>t3_i21_pdp</th>\n",
       "      <th>t9_i21_pdp</th>\n",
       "      <th>t15_i21_pdp</th>\n",
       "      <th>n9_i27_pdp</th>\n",
       "      <th>n3_i27_pdp</th>\n",
       "      <th>t3_i27_pdp</th>\n",
       "      <th>t9_i27_pdp</th>\n",
       "      <th>test_type</th>\n",
       "      <th>vatype</th>\n",
       "    </tr>\n",
       "  </thead>\n",
       "  <tbody>\n",
       "    <tr>\n",
       "      <th>0</th>\n",
       "      <td>1.2.276.0.75.2.5.80.25.3.190123133623332.93180...</td>\n",
       "      <td>1.2.276.0.75.2.5.80.25.3.190123133622780.93180...</td>\n",
       "      <td>VIP009279</td>\n",
       "      <td>11/17/1949</td>\n",
       "      <td>12/24/2016</td>\n",
       "      <td>L</td>\n",
       "      <td>3.25</td>\n",
       "      <td>0.0</td>\n",
       "      <td>0</td>\n",
       "      <td>NaN</td>\n",
       "      <td>...</td>\n",
       "      <td>&lt; 0.5%</td>\n",
       "      <td>Not Significant</td>\n",
       "      <td>Not Significant</td>\n",
       "      <td>NaN</td>\n",
       "      <td>NaN</td>\n",
       "      <td>NaN</td>\n",
       "      <td>NaN</td>\n",
       "      <td>NaN</td>\n",
       "      <td>NaN</td>\n",
       "      <td>NaN</td>\n",
       "    </tr>\n",
       "    <tr>\n",
       "      <th>1</th>\n",
       "      <td>1.2.276.0.75.2.5.80.25.3.190123133624307.93180...</td>\n",
       "      <td>1.2.276.0.75.2.5.80.25.3.190123133623936.93180...</td>\n",
       "      <td>VIP009279</td>\n",
       "      <td>11/17/1949</td>\n",
       "      <td>12/24/2016</td>\n",
       "      <td>R</td>\n",
       "      <td>3.25</td>\n",
       "      <td>0.0</td>\n",
       "      <td>0</td>\n",
       "      <td>3.9</td>\n",
       "      <td>...</td>\n",
       "      <td>&lt; 0.5%</td>\n",
       "      <td>&lt; 1%</td>\n",
       "      <td>&lt; 0.5%</td>\n",
       "      <td>NaN</td>\n",
       "      <td>NaN</td>\n",
       "      <td>NaN</td>\n",
       "      <td>NaN</td>\n",
       "      <td>NaN</td>\n",
       "      <td>NaN</td>\n",
       "      <td>NaN</td>\n",
       "    </tr>\n",
       "    <tr>\n",
       "      <th>2</th>\n",
       "      <td>1.2.276.0.75.2.5.80.25.3.190123133722362.93180...</td>\n",
       "      <td>1.2.276.0.75.2.5.80.25.3.190123133721903.93180...</td>\n",
       "      <td>VIP112677</td>\n",
       "      <td>06/01/1962</td>\n",
       "      <td>03/04/2011</td>\n",
       "      <td>L</td>\n",
       "      <td>2.00</td>\n",
       "      <td>0.0</td>\n",
       "      <td>0</td>\n",
       "      <td>4.4</td>\n",
       "      <td>...</td>\n",
       "      <td>NaN</td>\n",
       "      <td>NaN</td>\n",
       "      <td>NaN</td>\n",
       "      <td>NaN</td>\n",
       "      <td>NaN</td>\n",
       "      <td>NaN</td>\n",
       "      <td>NaN</td>\n",
       "      <td>NaN</td>\n",
       "      <td>NaN</td>\n",
       "      <td>NaN</td>\n",
       "    </tr>\n",
       "    <tr>\n",
       "      <th>3</th>\n",
       "      <td>1.2.276.0.75.2.5.80.25.3.190123133723983.93180...</td>\n",
       "      <td>1.2.276.0.75.2.5.80.25.3.190123133723701.93180...</td>\n",
       "      <td>VIP112677</td>\n",
       "      <td>06/01/1962</td>\n",
       "      <td>11/20/2010</td>\n",
       "      <td>L</td>\n",
       "      <td>1.25</td>\n",
       "      <td>0.0</td>\n",
       "      <td>0</td>\n",
       "      <td>4.4</td>\n",
       "      <td>...</td>\n",
       "      <td>&lt; 0.5%</td>\n",
       "      <td>&lt; 0.5%</td>\n",
       "      <td>&lt; 0.5%</td>\n",
       "      <td>NaN</td>\n",
       "      <td>NaN</td>\n",
       "      <td>NaN</td>\n",
       "      <td>NaN</td>\n",
       "      <td>NaN</td>\n",
       "      <td>NaN</td>\n",
       "      <td>NaN</td>\n",
       "    </tr>\n",
       "    <tr>\n",
       "      <th>4</th>\n",
       "      <td>1.2.276.0.75.2.5.80.25.3.190123133724566.93180...</td>\n",
       "      <td>1.2.276.0.75.2.5.80.25.3.190123133724289.93180...</td>\n",
       "      <td>VIP112677</td>\n",
       "      <td>06/01/1962</td>\n",
       "      <td>11/20/2010</td>\n",
       "      <td>R</td>\n",
       "      <td>2.00</td>\n",
       "      <td>0.0</td>\n",
       "      <td>0</td>\n",
       "      <td>4.7</td>\n",
       "      <td>...</td>\n",
       "      <td>Not Significant</td>\n",
       "      <td>&lt; 0.5%</td>\n",
       "      <td>&lt; 5%</td>\n",
       "      <td>NaN</td>\n",
       "      <td>NaN</td>\n",
       "      <td>NaN</td>\n",
       "      <td>NaN</td>\n",
       "      <td>NaN</td>\n",
       "      <td>NaN</td>\n",
       "      <td>NaN</td>\n",
       "    </tr>\n",
       "  </tbody>\n",
       "</table>\n",
       "<p>5 rows × 421 columns</p>\n",
       "</div>"
      ],
      "text/plain": [
       "                                        pdf_filename  \\\n",
       "0  1.2.276.0.75.2.5.80.25.3.190123133623332.93180...   \n",
       "1  1.2.276.0.75.2.5.80.25.3.190123133624307.93180...   \n",
       "2  1.2.276.0.75.2.5.80.25.3.190123133722362.93180...   \n",
       "3  1.2.276.0.75.2.5.80.25.3.190123133723983.93180...   \n",
       "4  1.2.276.0.75.2.5.80.25.3.190123133724566.93180...   \n",
       "\n",
       "                                        opv_filename   maskedid aedob_shift  \\\n",
       "0  1.2.276.0.75.2.5.80.25.3.190123133622780.93180...  VIP009279  11/17/1949   \n",
       "1  1.2.276.0.75.2.5.80.25.3.190123133623936.93180...  VIP009279  11/17/1949   \n",
       "2  1.2.276.0.75.2.5.80.25.3.190123133721903.93180...  VIP112677  06/01/1962   \n",
       "3  1.2.276.0.75.2.5.80.25.3.190123133723701.93180...  VIP112677  06/01/1962   \n",
       "4  1.2.276.0.75.2.5.80.25.3.190123133724289.93180...  VIP112677  06/01/1962   \n",
       "\n",
       "  aeexamdate_shift eye  trial_rx_sphere  trial_rx_cylinder  trial_rx_axis  \\\n",
       "0       12/24/2016   L             3.25                0.0              0   \n",
       "1       12/24/2016   R             3.25                0.0              0   \n",
       "2       03/04/2011   L             2.00                0.0              0   \n",
       "3       11/20/2010   L             1.25                0.0              0   \n",
       "4       11/20/2010   R             2.00                0.0              0   \n",
       "\n",
       "   pupil_diameter  ...       n3_i21_pdp       t3_i21_pdp       t9_i21_pdp  \\\n",
       "0             NaN  ...           < 0.5%  Not Significant  Not Significant   \n",
       "1             3.9  ...           < 0.5%             < 1%           < 0.5%   \n",
       "2             4.4  ...              NaN              NaN              NaN   \n",
       "3             4.4  ...           < 0.5%           < 0.5%           < 0.5%   \n",
       "4             4.7  ...  Not Significant           < 0.5%             < 5%   \n",
       "\n",
       "   t15_i21_pdp n9_i27_pdp n3_i27_pdp  t3_i27_pdp  t9_i27_pdp  test_type vatype  \n",
       "0          NaN        NaN        NaN         NaN         NaN        NaN    NaN  \n",
       "1          NaN        NaN        NaN         NaN         NaN        NaN    NaN  \n",
       "2          NaN        NaN        NaN         NaN         NaN        NaN    NaN  \n",
       "3          NaN        NaN        NaN         NaN         NaN        NaN    NaN  \n",
       "4          NaN        NaN        NaN         NaN         NaN        NaN    NaN  \n",
       "\n",
       "[5 rows x 421 columns]"
      ]
     },
     "execution_count": 21,
     "metadata": {},
     "output_type": "execute_result"
    }
   ],
   "source": [
    "df.head()"
   ]
  },
  {
   "cell_type": "code",
   "execution_count": 22,
   "id": "86487135",
   "metadata": {},
   "outputs": [],
   "source": [
    "# Calculate age in years from aedob_shift and aeexamdate_shift:\n",
    "df['age'] = (pd.to_datetime(df['aeexamdate_shift']) - pd.to_datetime(df['aedob_shift'])).dt.days // 365"
   ]
  },
  {
   "cell_type": "code",
   "execution_count": 23,
   "id": "9fde1601",
   "metadata": {},
   "outputs": [],
   "source": [
    "# Keep only testpattern == \"24-2\"\n",
    "df = df[df['testpattern'] == \"24-2\"]"
   ]
  },
  {
   "cell_type": "code",
   "execution_count": 24,
   "id": "d845168b",
   "metadata": {},
   "outputs": [
    {
     "data": {
      "application/vnd.microsoft.datawrangler.viewer.v0+json": {
       "columns": [
        {
         "name": "index",
         "rawType": "int64",
         "type": "integer"
        },
        {
         "name": "maskedid",
         "rawType": "object",
         "type": "string"
        },
        {
         "name": "eye",
         "rawType": "object",
         "type": "string"
        },
        {
         "name": "age",
         "rawType": "int64",
         "type": "integer"
        },
        {
         "name": "aedob_shift",
         "rawType": "object",
         "type": "string"
        },
        {
         "name": "aeexamdate_shift",
         "rawType": "object",
         "type": "string"
        },
        {
         "name": "pdf_filename",
         "rawType": "object",
         "type": "string"
        },
        {
         "name": "opv_filename",
         "rawType": "object",
         "type": "string"
        }
       ],
       "ref": "27515225-82d9-4a38-85ef-1a541f6bad2e",
       "rows": [
        [
         "0",
         "VIP009279",
         "L",
         "67",
         "11/17/1949",
         "12/24/2016",
         "1.2.276.0.75.2.5.80.25.3.190123133623332.93180999879162.31338402.pdf",
         "1.2.276.0.75.2.5.80.25.3.190123133622780.93180999879162.31338398.dcm"
        ],
        [
         "1",
         "VIP009279",
         "R",
         "67",
         "11/17/1949",
         "12/24/2016",
         "1.2.276.0.75.2.5.80.25.3.190123133624307.93180999879162.31338415.pdf",
         "1.2.276.0.75.2.5.80.25.3.190123133623936.93180999879162.31338411.dcm"
        ],
        [
         "2",
         "VIP112677",
         "L",
         "48",
         "06/01/1962",
         "03/04/2011",
         "1.2.276.0.75.2.5.80.25.3.190123133722362.93180999879162.31339288.pdf",
         "1.2.276.0.75.2.5.80.25.3.190123133721903.93180999879162.31339282.dcm"
        ],
        [
         "3",
         "VIP112677",
         "L",
         "48",
         "06/01/1962",
         "11/20/2010",
         "1.2.276.0.75.2.5.80.25.3.190123133723983.93180999879162.31339314.pdf",
         "1.2.276.0.75.2.5.80.25.3.190123133723701.93180999879162.31339310.dcm"
        ],
        [
         "4",
         "VIP112677",
         "R",
         "48",
         "06/01/1962",
         "11/20/2010",
         "1.2.276.0.75.2.5.80.25.3.190123133724566.93180999879162.31339325.pdf",
         "1.2.276.0.75.2.5.80.25.3.190123133724289.93180999879162.31339321.dcm"
        ]
       ],
       "shape": {
        "columns": 7,
        "rows": 5
       }
      },
      "text/html": [
       "<div>\n",
       "<style scoped>\n",
       "    .dataframe tbody tr th:only-of-type {\n",
       "        vertical-align: middle;\n",
       "    }\n",
       "\n",
       "    .dataframe tbody tr th {\n",
       "        vertical-align: top;\n",
       "    }\n",
       "\n",
       "    .dataframe thead th {\n",
       "        text-align: right;\n",
       "    }\n",
       "</style>\n",
       "<table border=\"1\" class=\"dataframe\">\n",
       "  <thead>\n",
       "    <tr style=\"text-align: right;\">\n",
       "      <th></th>\n",
       "      <th>maskedid</th>\n",
       "      <th>eye</th>\n",
       "      <th>age</th>\n",
       "      <th>aedob_shift</th>\n",
       "      <th>aeexamdate_shift</th>\n",
       "      <th>pdf_filename</th>\n",
       "      <th>opv_filename</th>\n",
       "    </tr>\n",
       "  </thead>\n",
       "  <tbody>\n",
       "    <tr>\n",
       "      <th>0</th>\n",
       "      <td>VIP009279</td>\n",
       "      <td>L</td>\n",
       "      <td>67</td>\n",
       "      <td>11/17/1949</td>\n",
       "      <td>12/24/2016</td>\n",
       "      <td>1.2.276.0.75.2.5.80.25.3.190123133623332.93180...</td>\n",
       "      <td>1.2.276.0.75.2.5.80.25.3.190123133622780.93180...</td>\n",
       "    </tr>\n",
       "    <tr>\n",
       "      <th>1</th>\n",
       "      <td>VIP009279</td>\n",
       "      <td>R</td>\n",
       "      <td>67</td>\n",
       "      <td>11/17/1949</td>\n",
       "      <td>12/24/2016</td>\n",
       "      <td>1.2.276.0.75.2.5.80.25.3.190123133624307.93180...</td>\n",
       "      <td>1.2.276.0.75.2.5.80.25.3.190123133623936.93180...</td>\n",
       "    </tr>\n",
       "    <tr>\n",
       "      <th>2</th>\n",
       "      <td>VIP112677</td>\n",
       "      <td>L</td>\n",
       "      <td>48</td>\n",
       "      <td>06/01/1962</td>\n",
       "      <td>03/04/2011</td>\n",
       "      <td>1.2.276.0.75.2.5.80.25.3.190123133722362.93180...</td>\n",
       "      <td>1.2.276.0.75.2.5.80.25.3.190123133721903.93180...</td>\n",
       "    </tr>\n",
       "    <tr>\n",
       "      <th>3</th>\n",
       "      <td>VIP112677</td>\n",
       "      <td>L</td>\n",
       "      <td>48</td>\n",
       "      <td>06/01/1962</td>\n",
       "      <td>11/20/2010</td>\n",
       "      <td>1.2.276.0.75.2.5.80.25.3.190123133723983.93180...</td>\n",
       "      <td>1.2.276.0.75.2.5.80.25.3.190123133723701.93180...</td>\n",
       "    </tr>\n",
       "    <tr>\n",
       "      <th>4</th>\n",
       "      <td>VIP112677</td>\n",
       "      <td>R</td>\n",
       "      <td>48</td>\n",
       "      <td>06/01/1962</td>\n",
       "      <td>11/20/2010</td>\n",
       "      <td>1.2.276.0.75.2.5.80.25.3.190123133724566.93180...</td>\n",
       "      <td>1.2.276.0.75.2.5.80.25.3.190123133724289.93180...</td>\n",
       "    </tr>\n",
       "  </tbody>\n",
       "</table>\n",
       "</div>"
      ],
      "text/plain": [
       "    maskedid eye  age aedob_shift aeexamdate_shift  \\\n",
       "0  VIP009279   L   67  11/17/1949       12/24/2016   \n",
       "1  VIP009279   R   67  11/17/1949       12/24/2016   \n",
       "2  VIP112677   L   48  06/01/1962       03/04/2011   \n",
       "3  VIP112677   L   48  06/01/1962       11/20/2010   \n",
       "4  VIP112677   R   48  06/01/1962       11/20/2010   \n",
       "\n",
       "                                        pdf_filename  \\\n",
       "0  1.2.276.0.75.2.5.80.25.3.190123133623332.93180...   \n",
       "1  1.2.276.0.75.2.5.80.25.3.190123133624307.93180...   \n",
       "2  1.2.276.0.75.2.5.80.25.3.190123133722362.93180...   \n",
       "3  1.2.276.0.75.2.5.80.25.3.190123133723983.93180...   \n",
       "4  1.2.276.0.75.2.5.80.25.3.190123133724566.93180...   \n",
       "\n",
       "                                        opv_filename  \n",
       "0  1.2.276.0.75.2.5.80.25.3.190123133622780.93180...  \n",
       "1  1.2.276.0.75.2.5.80.25.3.190123133623936.93180...  \n",
       "2  1.2.276.0.75.2.5.80.25.3.190123133721903.93180...  \n",
       "3  1.2.276.0.75.2.5.80.25.3.190123133723701.93180...  \n",
       "4  1.2.276.0.75.2.5.80.25.3.190123133724289.93180...  "
      ]
     },
     "execution_count": 24,
     "metadata": {},
     "output_type": "execute_result"
    }
   ],
   "source": [
    "# Keep only relevant columns:\n",
    "df = df[['maskedid', 'eye', 'age', 'aedob_shift', 'aeexamdate_shift', 'pdf_filename', 'opv_filename']]\n",
    "df.head()"
   ]
  },
  {
   "cell_type": "code",
   "execution_count": null,
   "id": "3f93541e",
   "metadata": {},
   "outputs": [],
   "source": [
    "# Create a counter for how many visual fields per patient, per eye, and also assign a number from 1 to n for each visual field/eye, according to date:\n",
    "df['visual_field_count'] = df.groupby(['maskedid', 'eye']).cumcount() + 1\n",
    "\n",
    "# Sort\n",
    "df = df.sort_values(by=['maskedid', 'eye', 'aeexamdate_shift'])\n",
    "\n",
    "# Sequencial number of tests per pacient/eye\n",
    "df['visual_field_number'] = df.groupby(['maskedid', 'eye']).cumcount() + 1\n",
    "\n",
    "# Total count per patient/eye\n",
    "df['visual_field_count'] = df.groupby(['maskedid', 'eye'])['aeexamdate_shift'].transform('count')\n"
   ]
  },
  {
   "cell_type": "code",
   "execution_count": 27,
   "id": "756c0209",
   "metadata": {},
   "outputs": [
    {
     "data": {
      "application/vnd.microsoft.datawrangler.viewer.v0+json": {
       "columns": [
        {
         "name": "index",
         "rawType": "int64",
         "type": "integer"
        },
        {
         "name": "maskedid",
         "rawType": "object",
         "type": "string"
        },
        {
         "name": "eye",
         "rawType": "object",
         "type": "string"
        },
        {
         "name": "age",
         "rawType": "int64",
         "type": "integer"
        },
        {
         "name": "aedob_shift",
         "rawType": "object",
         "type": "string"
        },
        {
         "name": "aeexamdate_shift",
         "rawType": "object",
         "type": "string"
        },
        {
         "name": "pdf_filename",
         "rawType": "object",
         "type": "string"
        },
        {
         "name": "opv_filename",
         "rawType": "object",
         "type": "string"
        },
        {
         "name": "visual_field_count",
         "rawType": "int64",
         "type": "integer"
        },
        {
         "name": "visual_field_number",
         "rawType": "int64",
         "type": "integer"
        }
       ],
       "ref": "7c698aad-0e6c-4a08-8014-92153921dbe0",
       "rows": [
        [
         "3350",
         "VIP000030",
         "R",
         "78",
         "05/14/1938",
         "10/13/2016",
         "1.2.276.0.75.2.5.80.25.3.190125121048070.93180999879162.33063083.pdf",
         "1.2.276.0.75.2.5.80.25.3.190125121046730.93180999879162.33063073.dcm",
         "1",
         "1"
        ],
        [
         "214",
         "VIP000040",
         "L",
         "86",
         "09/05/1925",
         "12/01/2011",
         "1.2.276.0.75.2.5.80.25.3.190123155921416.93180999879162.31450003.pdf",
         "1.2.276.0.75.2.5.80.25.3.190123155920710.93180999879162.31449999.dcm",
         "1",
         "1"
        ],
        [
         "2393",
         "VIP000040",
         "R",
         "86",
         "09/05/1925",
         "12/01/2011",
         "1.2.276.0.75.2.5.80.25.3.190124124305206.93180999879162.32129249.pdf",
         "1.2.276.0.75.2.5.80.25.3.190124154418396.93180999879162.32246357.dcm",
         "1",
         "1"
        ],
        [
         "1806",
         "VIP000137",
         "L",
         "43",
         "06/04/1970",
         "03/21/2014",
         "1.2.276.0.75.2.5.80.25.3.190124062348979.93180999879162.31979130.pdf",
         "1.2.276.0.75.2.5.80.25.3.190125210944911.93180999879162.33287209.dcm",
         "2",
         "1"
        ],
        [
         "1259",
         "VIP000137",
         "L",
         "47",
         "06/04/1970",
         "07/01/2017",
         "1.2.276.0.75.2.5.80.25.3.190124003044673.93180999879162.86371351.pdf",
         "1.2.276.0.75.2.5.80.25.3.190124003044211.93180999879162.86371347.dcm",
         "2",
         "2"
        ]
       ],
       "shape": {
        "columns": 9,
        "rows": 5
       }
      },
      "text/html": [
       "<div>\n",
       "<style scoped>\n",
       "    .dataframe tbody tr th:only-of-type {\n",
       "        vertical-align: middle;\n",
       "    }\n",
       "\n",
       "    .dataframe tbody tr th {\n",
       "        vertical-align: top;\n",
       "    }\n",
       "\n",
       "    .dataframe thead th {\n",
       "        text-align: right;\n",
       "    }\n",
       "</style>\n",
       "<table border=\"1\" class=\"dataframe\">\n",
       "  <thead>\n",
       "    <tr style=\"text-align: right;\">\n",
       "      <th></th>\n",
       "      <th>maskedid</th>\n",
       "      <th>eye</th>\n",
       "      <th>age</th>\n",
       "      <th>aedob_shift</th>\n",
       "      <th>aeexamdate_shift</th>\n",
       "      <th>pdf_filename</th>\n",
       "      <th>opv_filename</th>\n",
       "      <th>visual_field_count</th>\n",
       "      <th>visual_field_number</th>\n",
       "    </tr>\n",
       "  </thead>\n",
       "  <tbody>\n",
       "    <tr>\n",
       "      <th>3350</th>\n",
       "      <td>VIP000030</td>\n",
       "      <td>R</td>\n",
       "      <td>78</td>\n",
       "      <td>05/14/1938</td>\n",
       "      <td>10/13/2016</td>\n",
       "      <td>1.2.276.0.75.2.5.80.25.3.190125121048070.93180...</td>\n",
       "      <td>1.2.276.0.75.2.5.80.25.3.190125121046730.93180...</td>\n",
       "      <td>1</td>\n",
       "      <td>1</td>\n",
       "    </tr>\n",
       "    <tr>\n",
       "      <th>214</th>\n",
       "      <td>VIP000040</td>\n",
       "      <td>L</td>\n",
       "      <td>86</td>\n",
       "      <td>09/05/1925</td>\n",
       "      <td>12/01/2011</td>\n",
       "      <td>1.2.276.0.75.2.5.80.25.3.190123155921416.93180...</td>\n",
       "      <td>1.2.276.0.75.2.5.80.25.3.190123155920710.93180...</td>\n",
       "      <td>1</td>\n",
       "      <td>1</td>\n",
       "    </tr>\n",
       "    <tr>\n",
       "      <th>2393</th>\n",
       "      <td>VIP000040</td>\n",
       "      <td>R</td>\n",
       "      <td>86</td>\n",
       "      <td>09/05/1925</td>\n",
       "      <td>12/01/2011</td>\n",
       "      <td>1.2.276.0.75.2.5.80.25.3.190124124305206.93180...</td>\n",
       "      <td>1.2.276.0.75.2.5.80.25.3.190124154418396.93180...</td>\n",
       "      <td>1</td>\n",
       "      <td>1</td>\n",
       "    </tr>\n",
       "    <tr>\n",
       "      <th>1806</th>\n",
       "      <td>VIP000137</td>\n",
       "      <td>L</td>\n",
       "      <td>43</td>\n",
       "      <td>06/04/1970</td>\n",
       "      <td>03/21/2014</td>\n",
       "      <td>1.2.276.0.75.2.5.80.25.3.190124062348979.93180...</td>\n",
       "      <td>1.2.276.0.75.2.5.80.25.3.190125210944911.93180...</td>\n",
       "      <td>2</td>\n",
       "      <td>1</td>\n",
       "    </tr>\n",
       "    <tr>\n",
       "      <th>1259</th>\n",
       "      <td>VIP000137</td>\n",
       "      <td>L</td>\n",
       "      <td>47</td>\n",
       "      <td>06/04/1970</td>\n",
       "      <td>07/01/2017</td>\n",
       "      <td>1.2.276.0.75.2.5.80.25.3.190124003044673.93180...</td>\n",
       "      <td>1.2.276.0.75.2.5.80.25.3.190124003044211.93180...</td>\n",
       "      <td>2</td>\n",
       "      <td>2</td>\n",
       "    </tr>\n",
       "  </tbody>\n",
       "</table>\n",
       "</div>"
      ],
      "text/plain": [
       "       maskedid eye  age aedob_shift aeexamdate_shift  \\\n",
       "3350  VIP000030   R   78  05/14/1938       10/13/2016   \n",
       "214   VIP000040   L   86  09/05/1925       12/01/2011   \n",
       "2393  VIP000040   R   86  09/05/1925       12/01/2011   \n",
       "1806  VIP000137   L   43  06/04/1970       03/21/2014   \n",
       "1259  VIP000137   L   47  06/04/1970       07/01/2017   \n",
       "\n",
       "                                           pdf_filename  \\\n",
       "3350  1.2.276.0.75.2.5.80.25.3.190125121048070.93180...   \n",
       "214   1.2.276.0.75.2.5.80.25.3.190123155921416.93180...   \n",
       "2393  1.2.276.0.75.2.5.80.25.3.190124124305206.93180...   \n",
       "1806  1.2.276.0.75.2.5.80.25.3.190124062348979.93180...   \n",
       "1259  1.2.276.0.75.2.5.80.25.3.190124003044673.93180...   \n",
       "\n",
       "                                           opv_filename  visual_field_count  \\\n",
       "3350  1.2.276.0.75.2.5.80.25.3.190125121046730.93180...                   1   \n",
       "214   1.2.276.0.75.2.5.80.25.3.190123155920710.93180...                   1   \n",
       "2393  1.2.276.0.75.2.5.80.25.3.190124154418396.93180...                   1   \n",
       "1806  1.2.276.0.75.2.5.80.25.3.190125210944911.93180...                   2   \n",
       "1259  1.2.276.0.75.2.5.80.25.3.190124003044211.93180...                   2   \n",
       "\n",
       "      visual_field_number  \n",
       "3350                    1  \n",
       "214                     1  \n",
       "2393                    1  \n",
       "1806                    1  \n",
       "1259                    2  "
      ]
     },
     "execution_count": 27,
     "metadata": {},
     "output_type": "execute_result"
    }
   ],
   "source": [
    "df.head()"
   ]
  },
  {
   "cell_type": "code",
   "execution_count": 28,
   "id": "c9bb2c88",
   "metadata": {},
   "outputs": [],
   "source": [
    "df.to_csv(base_path.parent / \"data\" / \"opv_24-2_prepared.csv\", index=False)"
   ]
  },
  {
   "cell_type": "code",
   "execution_count": null,
   "id": "22a54720",
   "metadata": {},
   "outputs": [],
   "source": []
  }
 ],
 "metadata": {
  "kernelspec": {
   "display_name": "visual_field_grading",
   "language": "python",
   "name": "python3"
  },
  "language_info": {
   "codemirror_mode": {
    "name": "ipython",
    "version": 3
   },
   "file_extension": ".py",
   "mimetype": "text/x-python",
   "name": "python",
   "nbconvert_exporter": "python",
   "pygments_lexer": "ipython3",
   "version": "3.11.7"
  }
 },
 "nbformat": 4,
 "nbformat_minor": 5
}
